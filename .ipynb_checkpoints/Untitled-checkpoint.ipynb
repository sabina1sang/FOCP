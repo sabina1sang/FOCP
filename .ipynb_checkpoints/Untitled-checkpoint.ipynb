{
 "cells": [
  {
   "cell_type": "code",
   "execution_count": 1,
   "id": "48bf200b-2b2f-4ee0-96bd-73aee2d474ac",
   "metadata": {},
   "outputs": [
    {
     "name": "stdout",
     "output_type": "stream",
     "text": [
      "The total is 100\n"
     ]
    }
   ],
   "source": [
    "total =100\n",
    "print(\"The total is\",total)"
   ]
  },
  {
   "cell_type": "code",
   "execution_count": 3,
   "id": "d40c9c3d-fb6b-450f-8245-3be322dd15d9",
   "metadata": {},
   "outputs": [
    {
     "name": "stdout",
     "output_type": "stream",
     "text": [
      "The total is now 103\n"
     ]
    }
   ],
   "source": [
    "total=total|+99\n",
    "print(\"The total is now\", total)"
   ]
  },
  {
   "cell_type": "code",
   "execution_count": 4,
   "id": "31fd768b-7466-475e-afe6-8eed9362d095",
   "metadata": {},
   "outputs": [
    {
     "name": "stdout",
     "output_type": "stream",
     "text": [
      "The total is 102\n"
     ]
    }
   ],
   "source": [
    "total =total -1\n",
    "print(\"The total is\", total)"
   ]
  },
  {
   "cell_type": "code",
   "execution_count": 5,
   "id": "637e2ca1-3817-433f-b4ab-8607bfdf9033",
   "metadata": {},
   "outputs": [
    {
     "name": "stdout",
     "output_type": "stream",
     "text": [
      "The total is 408\n"
     ]
    }
   ],
   "source": [
    "total = total *4\n",
    "print(\"The total is\", total)"
   ]
  },
  {
   "cell_type": "code",
   "execution_count": 6,
   "id": "64131213-cf57-4675-93a5-959a2f33a3b1",
   "metadata": {},
   "outputs": [
    {
     "name": "stdout",
     "output_type": "stream",
     "text": [
      "The total is 204.0\n"
     ]
    }
   ],
   "source": [
    "total = total/2\n",
    "print(\"The total is\", total)"
   ]
  },
  {
   "cell_type": "code",
   "execution_count": 7,
   "id": "9ae04956-cd29-4547-b1bd-be21b098fb90",
   "metadata": {},
   "outputs": [
    {
     "name": "stdout",
     "output_type": "stream",
     "text": [
      "The average is 19.64\n"
     ]
    }
   ],
   "source": [
    "total = 98.2\n",
    "count =5\n",
    "average = total/count\n",
    "print(\"The average is\",average)"
   ]
  },
  {
   "cell_type": "code",
   "execution_count": 17,
   "id": "400ad710-191c-45da-a801-758b6baf54e2",
   "metadata": {},
   "outputs": [
    {
     "data": {
      "text/plain": [
       "bool"
      ]
     },
     "execution_count": 17,
     "metadata": {},
     "output_type": "execute_result"
    }
   ],
   "source": [
    "type(False)"
   ]
  },
  {
   "cell_type": "code",
   "execution_count": 18,
   "id": "1f5c59f1-ef34-4ea6-9478-50d1f17c1fa8",
   "metadata": {},
   "outputs": [
    {
     "data": {
      "text/plain": [
       "int"
      ]
     },
     "execution_count": 18,
     "metadata": {},
     "output_type": "execute_result"
    }
   ],
   "source": [
    "type(1000)"
   ]
  },
  {
   "cell_type": "code",
   "execution_count": 12,
   "id": "f70ae651-b831-4132-95eb-d7204bf32f8b",
   "metadata": {},
   "outputs": [
    {
     "data": {
      "text/plain": [
       "float"
      ]
     },
     "execution_count": 12,
     "metadata": {},
     "output_type": "execute_result"
    }
   ],
   "source": [
    "type(100.111)"
   ]
  },
  {
   "cell_type": "code",
   "execution_count": 13,
   "id": "003f25b2-9eb4-42b4-9e8f-b2d606cc13de",
   "metadata": {},
   "outputs": [
    {
     "data": {
      "text/plain": [
       "str"
      ]
     },
     "execution_count": 13,
     "metadata": {},
     "output_type": "execute_result"
    }
   ],
   "source": [
    "type(\"Hello\")"
   ]
  },
  {
   "cell_type": "code",
   "execution_count": 14,
   "id": "51d101c9-0e36-46e7-9524-a04f9c6c729f",
   "metadata": {},
   "outputs": [
    {
     "data": {
      "text/plain": [
       "bool"
      ]
     },
     "execution_count": 14,
     "metadata": {},
     "output_type": "execute_result"
    }
   ],
   "source": [
    "type(True)"
   ]
  },
  {
   "cell_type": "code",
   "execution_count": 15,
   "id": "429de79b-efd6-4b1c-860b-2c28ff09fc7d",
   "metadata": {},
   "outputs": [
    {
     "data": {
      "text/plain": [
       "float"
      ]
     },
     "execution_count": 15,
     "metadata": {},
     "output_type": "execute_result"
    }
   ],
   "source": [
    "type(100/5)"
   ]
  },
  {
   "cell_type": "code",
   "execution_count": 16,
   "id": "fb835de6-b7f2-4677-a304-b0c5ca405b9b",
   "metadata": {},
   "outputs": [
    {
     "data": {
      "text/plain": [
       "int"
      ]
     },
     "execution_count": 16,
     "metadata": {},
     "output_type": "execute_result"
    }
   ],
   "source": [
    "type(100//5)"
   ]
  },
  {
   "cell_type": "code",
   "execution_count": 19,
   "id": "fab9d4ef-2430-4737-8559-a6b89d89b6cc",
   "metadata": {},
   "outputs": [
    {
     "data": {
      "text/plain": [
       "'ABCABCABCABCABCABCABCABCABCABC'"
      ]
     },
     "execution_count": 19,
     "metadata": {},
     "output_type": "execute_result"
    }
   ],
   "source": [
    "\"ABC\" * 10"
   ]
  },
  {
   "cell_type": "code",
   "execution_count": 22,
   "id": "5c7d07ac-f978-4277-91f5-dfb35fdcfed4",
   "metadata": {},
   "outputs": [
    {
     "name": "stdin",
     "output_type": "stream",
     "text": [
      "Enter your name: Sabina Sangraula\n",
      "Enter your address: dhapakhel\n",
      "Enter your contact number: 9829179921\n"
     ]
    },
    {
     "name": "stdout",
     "output_type": "stream",
     "text": [
      "Your name is Sabina Sangraula.\n",
      "Your address is dhapakhel.\n",
      "Your contact no is 9829179921.\n",
      "The length of your name is  16\n"
     ]
    }
   ],
   "source": [
    "name=input(\"Enter your name:\")\n",
    "address=input(\"Enter your address:\")\n",
    "contact=int(input(\"Enter your contact number:\"))\n",
    "print(f\"Your name is {name}.\")\n",
    "print(f\"Your address is {address}.\")\n",
    "print(f\"Your contact no is {contact}.\")\n",
    "print(\"The length of your name is \", len(name))\n"
   ]
  },
  {
   "cell_type": "code",
   "execution_count": 23,
   "id": "2fbdb9ea-ba39-4ba8-9dd9-3a2bb8f71f08",
   "metadata": {},
   "outputs": [
    {
     "name": "stdin",
     "output_type": "stream",
     "text": [
      "Enter your age 2\n"
     ]
    },
    {
     "ename": "TypeError",
     "evalue": "can only concatenate str (not \"int\") to str",
     "output_type": "error",
     "traceback": [
      "\u001b[1;31m---------------------------------------------------------------------------\u001b[0m",
      "\u001b[1;31mTypeError\u001b[0m                                 Traceback (most recent call last)",
      "Cell \u001b[1;32mIn[23], line 2\u001b[0m\n\u001b[0;32m      1\u001b[0m age \u001b[38;5;241m=\u001b[39m \u001b[38;5;28minput\u001b[39m(\u001b[38;5;124m\"\u001b[39m\u001b[38;5;124mEnter your age\u001b[39m\u001b[38;5;124m\"\u001b[39m)\n\u001b[1;32m----> 2\u001b[0m \u001b[38;5;28mprint\u001b[39m(\u001b[38;5;124m\"\u001b[39m\u001b[38;5;124m in one year your age will be\u001b[39m\u001b[38;5;124m\"\u001b[39m, \u001b[43mage\u001b[49m\u001b[38;5;241;43m+\u001b[39;49m\u001b[38;5;241;43m1\u001b[39;49m)\n",
      "\u001b[1;31mTypeError\u001b[0m: can only concatenate str (not \"int\") to str"
     ]
    }
   ],
   "source": [
    "age = input(\"Enter your age\")\n",
    "print(\" in one year your age will be\", age+1)"
   ]
  },
  {
   "cell_type": "code",
   "execution_count": 24,
   "id": "064bd812-4489-4bf8-859d-638daac780ee",
   "metadata": {},
   "outputs": [
    {
     "name": "stdin",
     "output_type": "stream",
     "text": [
      "Enter your age 2\n"
     ]
    },
    {
     "name": "stdout",
     "output_type": "stream",
     "text": [
      " in one year your age will be 3\n"
     ]
    }
   ],
   "source": [
    "age = int(input(\"Enter your age\"))\n",
    "print(\" in one year your age will be\", age+1)"
   ]
  },
  {
   "cell_type": "code",
   "execution_count": 25,
   "id": "f99c4fba-100f-44c4-93e7-47f988bbbb0f",
   "metadata": {},
   "outputs": [
    {
     "name": "stdin",
     "output_type": "stream",
     "text": [
      "Enter your first numeric value: 2\n",
      "Enter your second numeric value: 3\n"
     ]
    },
    {
     "name": "stdout",
     "output_type": "stream",
     "text": [
      "The product value of these two number is 6.0\n"
     ]
    }
   ],
   "source": [
    "no1=float(input(\"Enter your first numeric value:\"))\n",
    "no2=float(input(\"Enter your second numeric value:\"))\n",
    "print(\"The product value of these two number is\", no1*no2)"
   ]
  },
  {
   "cell_type": "code",
   "execution_count": 27,
   "id": "d07e393f-87a9-4016-ba8b-2bbd184aa6fc",
   "metadata": {},
   "outputs": [
    {
     "ename": "SyntaxError",
     "evalue": "invalid syntax (1086711893.py, line 1)",
     "output_type": "error",
     "traceback": [
      "\u001b[1;36m  Cell \u001b[1;32mIn[27], line 1\u001b[1;36m\u001b[0m\n\u001b[1;33m    comment = \"I would have \"thought\" you knew better!\"\u001b[0m\n\u001b[1;37m                             ^\u001b[0m\n\u001b[1;31mSyntaxError\u001b[0m\u001b[1;31m:\u001b[0m invalid syntax\n"
     ]
    }
   ],
   "source": [
    "comment = \"I would have \"thought\" you knew better!\"\n",
    "print(comment)"
   ]
  },
  {
   "cell_type": "code",
   "execution_count": 28,
   "id": "363f5e30-8138-4785-b237-f2c7ea2a2acb",
   "metadata": {},
   "outputs": [
    {
     "name": "stdout",
     "output_type": "stream",
     "text": [
      "I would have \"thought\" you knew better!\n"
     ]
    }
   ],
   "source": [
    "comment = 'I would have \"thought\" you knew better!'\n",
    "print(comment)"
   ]
  },
  {
   "cell_type": "code",
   "execution_count": 29,
   "id": "298c0405-eb57-43b2-a1f1-08bf11735b1a",
   "metadata": {},
   "outputs": [
    {
     "name": "stdout",
     "output_type": "stream",
     "text": [
      "This text includes characters such as '\\' '\"' and \"'\",\n",
      "This is a new line that starts with a tab\n",
      "\tThis new line starts with two tabs\n"
     ]
    }
   ],
   "source": [
    "print(\"This text includes characters such as '\\\\' '\\\"' and \\\"'\\\",\")\n",
    "print(\"This is a new line that starts with a tab\")\n",
    "print(\"\\tThis new line starts with two tabs\")\n"
   ]
  },
  {
   "cell_type": "code",
   "execution_count": 30,
   "id": "554bcc73-af95-4666-8a36-f2147233dd91",
   "metadata": {},
   "outputs": [
    {
     "name": "stdout",
     "output_type": "stream",
     "text": [
      "\\\\\\\\\\\\\\\\\\\\\\\\\\\\\\\\\\\\\\\\\\\\\\\\\\\\\\\\\n",
      "Hello there!\n",
      "\\\\\\\\\\\\\\\\\\\\\\\\\\\\\\\\\\\\\\\\\\\\\\\\\\\\\\\\\n"
     ]
    }
   ],
   "source": [
    "print(\"\\\\\\\\\\\\\\\\\\\\\\\\\\\\\\\\\\\\\\\\\\\\\\\\\\\\\\\\\\\\\\\\\\\\\\\\\\\\\\\\\\\\\\\\\\\\\\\\\\\\\\\\\\\\\\\\\")\n",
    "print(\"Hello there!\")\n",
    "print(\"\\\\\\\\\\\\\\\\\\\\\\\\\\\\\\\\\\\\\\\\\\\\\\\\\\\\\\\\\\\\\\\\\\\\\\\\\\\\\\\\\\\\\\\\\\\\\\\\\\\\\\\\\\\\\\\\\")\n"
   ]
  },
  {
   "cell_type": "code",
   "execution_count": 31,
   "id": "d41e95dd-e44e-490f-9745-da8c4103633f",
   "metadata": {},
   "outputs": [
    {
     "name": "stdout",
     "output_type": "stream",
     "text": [
      "This text spans three lines,\n",
      "and includes both single ('), \n",
      "and double quotes (\").\n"
     ]
    }
   ],
   "source": [
    "print(\"\"\"This text spans three lines,\n",
    "and includes both single ('), \n",
    "and double quotes (\").\"\"\")\n"
   ]
  },
  {
   "cell_type": "code",
   "execution_count": 32,
   "id": "fc9900d3-7188-4c9d-868c-46e98c9bda14",
   "metadata": {},
   "outputs": [
    {
     "name": "stdout",
     "output_type": "stream",
     "text": [
      "The third letter of the surname is: i\n"
     ]
    }
   ],
   "source": [
    "surname = \"Smith\"  \n",
    "if len(surname) > 2:\n",
    "    third_letter = surname[2] \n",
    "    print(f\"The third letter of the surname is: {third_letter}\")\n",
    "else:\n",
    "    print(\"Error: The surname is too short to access the third letter.\")\n"
   ]
  },
  {
   "cell_type": "code",
   "execution_count": null,
   "id": "980a6308-050b-41d7-af1b-808a585c8439",
   "metadata": {},
   "outputs": [],
   "source": []
  }
 ],
 "metadata": {
  "kernelspec": {
   "display_name": "Python 3 (ipykernel)",
   "language": "python",
   "name": "python3"
  },
  "language_info": {
   "codemirror_mode": {
    "name": "ipython",
    "version": 3
   },
   "file_extension": ".py",
   "mimetype": "text/x-python",
   "name": "python",
   "nbconvert_exporter": "python",
   "pygments_lexer": "ipython3",
   "version": "3.11.3"
  }
 },
 "nbformat": 4,
 "nbformat_minor": 5
}
