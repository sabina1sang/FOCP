{
 "cells": [
  {
   "cell_type": "code",
   "execution_count": 7,
   "id": "7ddf78de-4c14-4786-a966-a8cb280dd046",
   "metadata": {},
   "outputs": [
    {
     "name": "stdout",
     "output_type": "stream",
     "text": [
      "the program has executed\n"
     ]
    }
   ],
   "source": [
    "print(\"the program has executed\")"
   ]
  },
  {
   "cell_type": "code",
   "execution_count": 6,
   "id": "bf557468-577c-4de0-890d-d3dc480c3369",
   "metadata": {},
   "outputs": [
    {
     "name": "stdout",
     "output_type": "stream",
     "text": [
      "The program provided below has been executed.\n",
      "The program adds two integer and display the sum as result.\n",
      "The program take input as a string if we donot enter the datatype while taking input from user.\n"
     ]
    }
   ],
   "source": [
    "print(\"The program provided below has been executed.\")\n",
    "print(\"The program adds two integer and display the sum as result.\")\n",
    "print(\"The program take input as a string if we donot enter the datatype while taking input from user.\")"
   ]
  },
  {
   "cell_type": "code",
   "execution_count": 8,
   "id": "597be7f2-c547-4f56-845e-32dd5bb6cf1a",
   "metadata": {},
   "outputs": [
    {
     "name": "stdout",
     "output_type": "stream",
     "text": [
      "\n",
      "Welcome to Python 3.11's help utility!\n",
      "\n",
      "If this is your first time using Python, you should definitely check out\n",
      "the tutorial on the internet at https://docs.python.org/3.11/tutorial/.\n",
      "\n",
      "Enter the name of any module, keyword, or topic to get help on writing\n",
      "Python programs and using Python modules.  To quit this help utility and\n",
      "return to the interpreter, just type \"quit\".\n",
      "\n",
      "To get a list of available modules, keywords, symbols, or topics, type\n",
      "\"modules\", \"keywords\", \"symbols\", or \"topics\".  Each module also comes\n",
      "with a one-line summary of what it does; to list the modules whose name\n",
      "or summary contain a given string such as \"spam\", type \"modules spam\".\n",
      "\n"
     ]
    },
    {
     "name": "stdin",
     "output_type": "stream",
     "text": [
      "help>  keywords\n"
     ]
    },
    {
     "name": "stdout",
     "output_type": "stream",
     "text": [
      "\n",
      "Here is a list of the Python keywords.  Enter any keyword to get more help.\n",
      "\n",
      "False               class               from                or\n",
      "None                continue            global              pass\n",
      "True                def                 if                  raise\n",
      "and                 del                 import              return\n",
      "as                  elif                in                  try\n",
      "assert              else                is                  while\n",
      "async               except              lambda              with\n",
      "await               finally             nonlocal            yield\n",
      "break               for                 not                 \n",
      "\n"
     ]
    },
    {
     "name": "stdin",
     "output_type": "stream",
     "text": [
      "help>  quit\n"
     ]
    },
    {
     "name": "stdout",
     "output_type": "stream",
     "text": [
      "\n",
      "You are now leaving help and returning to the Python interpreter.\n",
      "If you want to ask for help on a particular object directly from the\n",
      "interpreter, you can type \"help(object)\".  Executing \"help('string')\"\n",
      "has the same effect as typing a particular string at the help> prompt.\n"
     ]
    }
   ],
   "source": [
    "help()"
   ]
  },
  {
   "cell_type": "code",
   "execution_count": 11,
   "id": "fe0ed45a-4a03-4f5d-85bc-52d981d2cbcd",
   "metadata": {},
   "outputs": [
    {
     "name": "stdout",
     "output_type": "stream",
     "text": [
      "Help on method raw_input in module ipykernel.kernelbase:\n",
      "\n",
      "raw_input(prompt='') method of ipykernel.ipkernel.IPythonKernel instance\n",
      "    Forward raw_input to frontends\n",
      "    \n",
      "    Raises\n",
      "    ------\n",
      "    StdinNotImplementedError if active frontend doesn't support stdin.\n",
      "\n"
     ]
    }
   ],
   "source": [
    "help(input)"
   ]
  },
  {
   "cell_type": "code",
   "execution_count": 12,
   "id": "6a293dfb-eed2-4bfc-bb86-156187fc3b4b",
   "metadata": {},
   "outputs": [
    {
     "data": {
      "text/plain": [
       "65"
      ]
     },
     "execution_count": 12,
     "metadata": {},
     "output_type": "execute_result"
    }
   ],
   "source": [
    "45+20"
   ]
  },
  {
   "cell_type": "code",
   "execution_count": 13,
   "id": "b7a3a70e-783a-4c3d-9a4b-4bc3630611d7",
   "metadata": {},
   "outputs": [
    {
     "data": {
      "text/plain": [
       "15"
      ]
     },
     "execution_count": 13,
     "metadata": {},
     "output_type": "execute_result"
    }
   ],
   "source": [
    "10+20-15"
   ]
  },
  {
   "cell_type": "code",
   "execution_count": 14,
   "id": "8dac515a-3510-4070-90e9-51984887ebbb",
   "metadata": {},
   "outputs": [
    {
     "data": {
      "text/plain": [
       "50"
      ]
     },
     "execution_count": 14,
     "metadata": {},
     "output_type": "execute_result"
    }
   ],
   "source": [
    "10*5"
   ]
  },
  {
   "cell_type": "code",
   "execution_count": 15,
   "id": "fad87503-6a96-4955-87c5-3a92e99f596a",
   "metadata": {},
   "outputs": [
    {
     "data": {
      "text/plain": [
       "3.0303030303030303"
      ]
     },
     "execution_count": 15,
     "metadata": {},
     "output_type": "execute_result"
    }
   ],
   "source": [
    "100/33"
   ]
  },
  {
   "cell_type": "code",
   "execution_count": 16,
   "id": "096cedb6-c0f4-4c8c-86c7-e38a7e002088",
   "metadata": {},
   "outputs": [
    {
     "data": {
      "text/plain": [
       "3"
      ]
     },
     "execution_count": 16,
     "metadata": {},
     "output_type": "execute_result"
    }
   ],
   "source": [
    "100//33"
   ]
  },
  {
   "cell_type": "code",
   "execution_count": 17,
   "id": "2ef3cd65-b3fc-4174-9fd1-6ab848087fdc",
   "metadata": {},
   "outputs": [
    {
     "data": {
      "text/plain": [
       "100"
      ]
     },
     "execution_count": 17,
     "metadata": {},
     "output_type": "execute_result"
    }
   ],
   "source": [
    "10**2"
   ]
  },
  {
   "cell_type": "code",
   "execution_count": 18,
   "id": "a978b5e6-44dd-4d54-bbc1-f9a0803a8cda",
   "metadata": {},
   "outputs": [
    {
     "data": {
      "text/plain": [
       "1"
      ]
     },
     "execution_count": 18,
     "metadata": {},
     "output_type": "execute_result"
    }
   ],
   "source": [
    "10%3"
   ]
  },
  {
   "cell_type": "code",
   "execution_count": 19,
   "id": "478cefaa-e3af-473a-b523-a751102f91db",
   "metadata": {},
   "outputs": [
    {
     "data": {
      "text/plain": [
       "20"
      ]
     },
     "execution_count": 19,
     "metadata": {},
     "output_type": "execute_result"
    }
   ],
   "source": [
    "10+5*2"
   ]
  },
  {
   "cell_type": "code",
   "execution_count": 20,
   "id": "13ab43f2-09dc-4530-9d72-b095ccede41b",
   "metadata": {},
   "outputs": [
    {
     "data": {
      "text/plain": [
       "-35"
      ]
     },
     "execution_count": 20,
     "metadata": {},
     "output_type": "execute_result"
    }
   ],
   "source": [
    "10-5*10+5"
   ]
  },
  {
   "cell_type": "code",
   "execution_count": 21,
   "id": "50b0e816-8cf0-403e-bb34-379518c75033",
   "metadata": {},
   "outputs": [
    {
     "data": {
      "text/plain": [
       "500"
      ]
     },
     "execution_count": 21,
     "metadata": {},
     "output_type": "execute_result"
    }
   ],
   "source": [
    "5*10**2"
   ]
  },
  {
   "cell_type": "code",
   "execution_count": 22,
   "id": "93bdc0e4-3574-4031-8ce0-9476e8fa13ef",
   "metadata": {},
   "outputs": [
    {
     "data": {
      "text/plain": [
       "30"
      ]
     },
     "execution_count": 22,
     "metadata": {},
     "output_type": "execute_result"
    }
   ],
   "source": [
    "(10+5)*2"
   ]
  },
  {
   "cell_type": "code",
   "execution_count": 23,
   "id": "956ce2b5-bbb6-4609-b1c2-bfb69701882e",
   "metadata": {},
   "outputs": [
    {
     "data": {
      "text/plain": [
       "-65"
      ]
     },
     "execution_count": 23,
     "metadata": {},
     "output_type": "execute_result"
    }
   ],
   "source": [
    "10-5*(10+5)"
   ]
  },
  {
   "cell_type": "code",
   "execution_count": 24,
   "id": "78cde8f8-48e8-4d2c-a583-70f671647424",
   "metadata": {},
   "outputs": [
    {
     "data": {
      "text/plain": [
       "2500"
      ]
     },
     "execution_count": 24,
     "metadata": {},
     "output_type": "execute_result"
    }
   ],
   "source": [
    "(5*10)**2"
   ]
  },
  {
   "cell_type": "code",
   "execution_count": 25,
   "id": "49cde2aa-b840-437e-b639-4e31bddcd673",
   "metadata": {},
   "outputs": [
    {
     "data": {
      "text/plain": [
       "25"
      ]
     },
     "execution_count": 25,
     "metadata": {},
     "output_type": "execute_result"
    }
   ],
   "source": [
    "12+(5*2+3)"
   ]
  },
  {
   "cell_type": "code",
   "execution_count": 26,
   "id": "b0dfcf4f-eacd-4fef-9b29-647cb36670bb",
   "metadata": {},
   "outputs": [
    {
     "data": {
      "text/plain": [
       "37"
      ]
     },
     "execution_count": 26,
     "metadata": {},
     "output_type": "execute_result"
    }
   ],
   "source": [
    "12+(5*(2+3))"
   ]
  },
  {
   "cell_type": "code",
   "execution_count": 27,
   "id": "2b432150-61da-4d1b-be39-815313d55f9b",
   "metadata": {},
   "outputs": [
    {
     "ename": "SyntaxError",
     "evalue": "invalid syntax (479093332.py, line 1)",
     "output_type": "error",
     "traceback": [
      "\u001b[1;36m  Cell \u001b[1;32mIn[27], line 1\u001b[1;36m\u001b[0m\n\u001b[1;33m    10+\u001b[0m\n\u001b[1;37m       ^\u001b[0m\n\u001b[1;31mSyntaxError\u001b[0m\u001b[1;31m:\u001b[0m invalid syntax\n"
     ]
    }
   ],
   "source": [
    "10+"
   ]
  },
  {
   "cell_type": "code",
   "execution_count": 28,
   "id": "08a49725-1ffc-47b3-9e9c-dd4bbc0ad626",
   "metadata": {},
   "outputs": [
    {
     "ename": "ZeroDivisionError",
     "evalue": "division by zero",
     "output_type": "error",
     "traceback": [
      "\u001b[1;31m---------------------------------------------------------------------------\u001b[0m",
      "\u001b[1;31mZeroDivisionError\u001b[0m                         Traceback (most recent call last)",
      "Cell \u001b[1;32mIn[28], line 1\u001b[0m\n\u001b[1;32m----> 1\u001b[0m \u001b[38;5;28mprint\u001b[39m(\u001b[38;5;124m\"\u001b[39m\u001b[38;5;124mTen divided by zero is\u001b[39m\u001b[38;5;124m\"\u001b[39m, \u001b[38;5;241;43m10\u001b[39;49m\u001b[38;5;241;43m/\u001b[39;49m\u001b[38;5;241;43m0\u001b[39;49m )\n",
      "\u001b[1;31mZeroDivisionError\u001b[0m: division by zero"
     ]
    }
   ],
   "source": [
    "print(\"Ten divided by zero is\", 10/0 )"
   ]
  },
  {
   "cell_type": "code",
   "execution_count": null,
   "id": "b4b5f16a-b1e6-4efd-8cf0-dee961384dfe",
   "metadata": {},
   "outputs": [],
   "source": []
  }
 ],
 "metadata": {
  "kernelspec": {
   "display_name": "Python 3 (ipykernel)",
   "language": "python",
   "name": "python3"
  },
  "language_info": {
   "codemirror_mode": {
    "name": "ipython",
    "version": 3
   },
   "file_extension": ".py",
   "mimetype": "text/x-python",
   "name": "python",
   "nbconvert_exporter": "python",
   "pygments_lexer": "ipython3",
   "version": "3.11.3"
  }
 },
 "nbformat": 4,
 "nbformat_minor": 5
}
