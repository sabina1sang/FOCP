{
 "cells": [
  {
   "cell_type": "code",
   "execution_count": 1,
   "id": "de622c6d-dc4d-48de-899e-2f4a206066eb",
   "metadata": {},
   "outputs": [
    {
     "name": "stdin",
     "output_type": "stream",
     "text": [
      "Enter your name: Sabina Sangraula\n"
     ]
    },
    {
     "name": "stdout",
     "output_type": "stream",
     "text": [
      "Hello, Sabina Sangraula!\n"
     ]
    }
   ],
   "source": [
    "\"\"\"Modify your greeting program so that if the user does not enter a name (i.e. they\n",
    "just press enter), the program responds \"Hello, Stranger!\". Otherwise it should print\n",
    "a greeting with their name as before.\"\"\"\n",
    "def display():\n",
    "    name=user_input()\n",
    "    if name==\"\":\n",
    "        print(\"Hello, Stranger!.\")\n",
    "    else:\n",
    "        print(f\"Hello, {name}!\")\n",
    "def user_input():\n",
    "    name=input(\"Enter your name:\")\n",
    "    return name\n",
    "display()       "
   ]
  },
  {
   "cell_type": "code",
   "execution_count": 2,
   "id": "22b8f5bb-0b5d-46c5-acbf-0b8febeb7bd8",
   "metadata": {},
   "outputs": [
    {
     "name": "stdin",
     "output_type": "stream",
     "text": [
      "Enter your password: 1\n",
      "Confirm your password: 2\n"
     ]
    },
    {
     "name": "stdout",
     "output_type": "stream",
     "text": [
      "There is an error you should re-enter the password.\n"
     ]
    },
    {
     "name": "stdin",
     "output_type": "stream",
     "text": [
      "Enter your password: 1\n",
      "Confirm your password: 1\n"
     ]
    },
    {
     "name": "stdout",
     "output_type": "stream",
     "text": [
      "Password Set\n"
     ]
    }
   ],
   "source": [
    "\"\"\"Write a program that simulates the way in which a user might choose a password.\n",
    "The program should prompt for a new password, and then prompt again. If the two\n",
    "passwords entered are the same the program should say \"Password Set\" or\n",
    "similar, otherwise it should report an error.\"\"\"\n",
    "def display():\n",
    "    while True:\n",
    "        password1,password2=password()\n",
    "        if password1==password2:\n",
    "            print(\"Password Set\")\n",
    "            break\n",
    "        else:\n",
    "            print(\"There is an error you should re-enter the password.\")\n",
    "def password():\n",
    "    password1=input(\"Enter your password:\")\n",
    "    password2=input(\"Confirm your password:\")\n",
    "    return password1, password2\n",
    "display()"
   ]
  },
  {
   "cell_type": "code",
   "execution_count": 6,
   "id": "0d188517-765b-4a24-ac68-b47747ade28e",
   "metadata": {},
   "outputs": [
    {
     "name": "stdin",
     "output_type": "stream",
     "text": [
      "Enter your password (8 to 12 characters):  123456as\n",
      "Confirm your password:  1\n"
     ]
    },
    {
     "name": "stdout",
     "output_type": "stream",
     "text": [
      "There is an error while inputting password. You have to re-enter the password.\n"
     ]
    },
    {
     "name": "stdin",
     "output_type": "stream",
     "text": [
      "Enter your password (8 to 12 characters):  123456as\n",
      "Confirm your password:  123456as\n"
     ]
    },
    {
     "name": "stdout",
     "output_type": "stream",
     "text": [
      "Password Set\n"
     ]
    }
   ],
   "source": [
    "\"\"\"Modify your previous program so that the password must be between 8 and 12\n",
    "characters (inclusive) long.\"\"\"\n",
    "\n",
    "def password():\n",
    "    while True:\n",
    "        password1, password2 = user_input()\n",
    "        \n",
    "        if password1 == password2 and 8 <= len(password1) <= 12:\n",
    "            print(\"Password Set\")\n",
    "            break\n",
    "        else:\n",
    "            print(\"There is an error while inputting password. You have to re-enter the password.\")\n",
    "def user_input():\n",
    "    password1 = input(\"Enter your password (8 to 12 characters): \")\n",
    "    password2 = input(\"Confirm your password: \")\n",
    "    return password1, password2\n",
    "password()\n",
    "\n",
    "    \n"
   ]
  },
  {
   "cell_type": "code",
   "execution_count": 7,
   "id": "32c38d24-cbbb-4ed5-8187-035750436640",
   "metadata": {},
   "outputs": [
    {
     "name": "stdin",
     "output_type": "stream",
     "text": [
      "Enter a number: 7\n"
     ]
    },
    {
     "name": "stdout",
     "output_type": "stream",
     "text": [
      "0 * 7 = 0\n",
      "1 * 7 = 7\n",
      "2 * 7 = 14\n",
      "3 * 7 = 21\n",
      "4 * 7 = 28\n",
      "5 * 7 = 35\n",
      "6 * 7 = 42\n",
      "7 * 7 = 49\n",
      "8 * 7 = 56\n",
      "9 * 7 = 63\n",
      "10 * 7 = 70\n",
      "11 * 7 = 77\n",
      "12 * 7 = 84\n"
     ]
    }
   ],
   "source": [
    "\"\"\"Write a program that displays the \"Seven Times Table\". That is, the result of\n",
    "multiplying 7 by every number from 0 to 12 inclusive. The output might start:\n",
    "0 x 7 = 0\n",
    "1 x 7 = 7\n",
    "2 x 7 = 14\n",
    "and so on.\"\"\"\n",
    "\n",
    "def table():\n",
    "    num=user_input()\n",
    "    for i in range(0,13):\n",
    "        print(f\"{i} * {num} = {i*num}\")\n",
    "def user_input():\n",
    "    num1=int(input(\"Enter a number:\"))\n",
    "    return num1\n",
    "table()"
   ]
  },
  {
   "cell_type": "code",
   "execution_count": 2,
   "id": "6da26d70-451c-4bf1-9cc4-40cfffaa517d",
   "metadata": {},
   "outputs": [
    {
     "name": "stdin",
     "output_type": "stream",
     "text": [
      "Enter your password: 12\n",
      "Confirm your password: 1\n"
     ]
    },
    {
     "name": "stdout",
     "output_type": "stream",
     "text": [
      "You have to enter the same password while confirming.\n"
     ]
    },
    {
     "name": "stdin",
     "output_type": "stream",
     "text": [
      "Enter your password: 123\n",
      "Confirm your password: 123\n"
     ]
    },
    {
     "name": "stdout",
     "output_type": "stream",
     "text": [
      "Password set\n"
     ]
    }
   ],
   "source": [
    "\"\"\"Modify your program again so that the chosen password cannot be one of a list of\n",
    "common passwords, defined thus:\n",
    "BAD_PASSWORDS = ['password', 'letmein', 'sesame', 'hello', 'justinbieber']\"\"\"\n",
    "def display():\n",
    "    while True:\n",
    "        password1,password2=password()\n",
    "        Common_Passwords = ['password', 'letmein', 'sesame', 'hello', 'justinbieber']\n",
    "        if password1!=password2:\n",
    "            print(\"You have to enter the same password while confirming.\")\n",
    "        elif password1 in Common_Passwords and password2 in Common_Passwords:\n",
    "            print(\"Weak Password\")\n",
    "        else:\n",
    "            print(\"Password set\")\n",
    "            break\n",
    "def password():\n",
    "    password1=input(\"Enter your password:\")\n",
    "    password2=input(\"Confirm your password:\")\n",
    "    return password1, password2        \n",
    "display()\n",
    "    "
   ]
  },
  {
   "cell_type": "code",
   "execution_count": 2,
   "id": "bbff9f40-0b2f-442c-9bf6-fa39cef41efe",
   "metadata": {},
   "outputs": [
    {
     "name": "stdin",
     "output_type": "stream",
     "text": [
      "Enter your password having 8 to 12 characters: 123etuui\n",
      "Confirm your password: 123etuui\n"
     ]
    },
    {
     "name": "stdout",
     "output_type": "stream",
     "text": [
      "Password set\n"
     ]
    }
   ],
   "source": [
    "\"\"\"Modify your program a final time so that it executes until the user successfully\n",
    "chooses a password. That is, if the password chosen fails any of the checks, the\n",
    "program should return to asking for the password the first time.\"\"\"\n",
    "def Password_check():\n",
    "    password1,password2=password()\n",
    "    Common_Passwords = ['password', 'letmein', 'sesame', 'hello', 'justinbieber']\n",
    "    if password1!=password2:\n",
    "        print(\"You have to enter the same password while confirming.\")\n",
    "        password()\n",
    "    elif password1 in Common_Passwords and password2 in Common_Passwords:\n",
    "        print(\"Weak Password\")\n",
    "        password()\n",
    "    if 8>len(password1)>12 and 8>len(password2)>12 :\n",
    "        print(\"characters requirement not fulfilled! \")\n",
    "        password()\n",
    "    else:\n",
    "        print(\"Password set\")\n",
    "def password():\n",
    "    password1=input(\"Enter your password having 8 to 12 characters:\")\n",
    "    password2=input(\"Confirm your password:\")\n",
    "    return password1,password2       \n",
    "Password_check()"
   ]
  },
  {
   "cell_type": "code",
   "execution_count": 6,
   "id": "5aea9da3-6585-4ad3-9ab3-9d902a365e5e",
   "metadata": {},
   "outputs": [
    {
     "name": "stdin",
     "output_type": "stream",
     "text": [
      "Enter the number of which you want to calculate the multiplication table: 2\n"
     ]
    },
    {
     "name": "stdout",
     "output_type": "stream",
     "text": [
      "0 * 2 = 0\n",
      "1 * 2 = 2\n",
      "2 * 2 = 4\n",
      "3 * 2 = 6\n",
      "4 * 2 = 8\n",
      "5 * 2 = 10\n",
      "6 * 2 = 12\n",
      "7 * 2 = 14\n",
      "8 * 2 = 16\n",
      "9 * 2 = 18\n",
      "10 * 2 = 20\n",
      "11 * 2 = 22\n",
      "12 * 2 = 24\n"
     ]
    }
   ],
   "source": [
    "\"\"\"Modify your \"Times Table\" program so that the user enters the number of the table\n",
    "they require. This number should be between 0 and 12 inclusive.\"\"\"\n",
    "def table():\n",
    "    num1=user_input()\n",
    "    for i in range(0,13):\n",
    "        print(f\"{i} * {num1} = {i*num1}\")\n",
    "def user_input():\n",
    "    num=int(input(\"Enter the number of which you want to calculate the multiplication table:\"))\n",
    "    return num\n",
    "table()"
   ]
  },
  {
   "cell_type": "code",
   "execution_count": 8,
   "id": "8ad92d89-5fc6-4de3-a97c-69a478b6cf06",
   "metadata": {},
   "outputs": [
    {
     "name": "stdin",
     "output_type": "stream",
     "text": [
      "Enter the number of which you want to calculate the multiplication table: -6\n"
     ]
    },
    {
     "name": "stdout",
     "output_type": "stream",
     "text": [
      "13 * -6 = -78\n",
      "12 * -6 = -72\n",
      "11 * -6 = -66\n",
      "10 * -6 = -60\n",
      "9 * -6 = -54\n",
      "8 * -6 = -48\n",
      "7 * -6 = -42\n",
      "6 * -6 = -36\n",
      "5 * -6 = -30\n",
      "4 * -6 = -24\n",
      "3 * -6 = -18\n",
      "2 * -6 = -12\n",
      "1 * -6 = -6\n"
     ]
    }
   ],
   "source": [
    "\"\"\"Modify the \"Times Table\" again so that the user still enters the number of the table,\n",
    "but if this number is negative the table is printed backwards. So entering \"-7\"\n",
    "would produce the Seven Times Table starting at \"12 times\" down to \"0 times\".\"\"\"\n",
    "def TimesTable():\n",
    "    num=user_input()\n",
    "    if num>0:\n",
    "        for i in range(13):\n",
    "            print(f\"{i} * {num} = {i*num}\")\n",
    "    else:\n",
    "        for i in range(-13,0):\n",
    "            print(f\"{-i} * {num} = {-i*num}\")\n",
    "def user_input():\n",
    "    num=int(input(\"Enter the number of which you want to calculate the multiplication table:\"))\n",
    "    return num\n",
    "TimesTable()"
   ]
  },
  {
   "cell_type": "code",
   "execution_count": null,
   "id": "e6cebf76-1162-440a-925d-6b351fdf8820",
   "metadata": {},
   "outputs": [],
   "source": []
  }
 ],
 "metadata": {
  "kernelspec": {
   "display_name": "Python 3 (ipykernel)",
   "language": "python",
   "name": "python3"
  },
  "language_info": {
   "codemirror_mode": {
    "name": "ipython",
    "version": 3
   },
   "file_extension": ".py",
   "mimetype": "text/x-python",
   "name": "python",
   "nbconvert_exporter": "python",
   "pygments_lexer": "ipython3",
   "version": "3.11.3"
  }
 },
 "nbformat": 4,
 "nbformat_minor": 5
}
