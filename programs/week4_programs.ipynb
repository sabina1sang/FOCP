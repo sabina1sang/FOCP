{
 "cells": [
  {
   "cell_type": "code",
   "execution_count": 3,
   "id": "5f548439-7df8-464e-ad3c-32b4446c9d25",
   "metadata": {},
   "outputs": [
    {
     "name": "stdin",
     "output_type": "stream",
     "text": [
      "Enter an integer number: 111\n"
     ]
    },
    {
     "name": "stdout",
     "output_type": "stream",
     "text": [
      "False\n"
     ]
    }
   ],
   "source": [
    "\"\"\"Functions are often used to validate input. Write a function that accepts a single\n",
    "integer as a parameter and returns True if the integer is in the range 0 to 100\n",
    "(inclusive), or False otherwise. Write a short program to test the function.\"\"\"\n",
    "\n",
    "def func():\n",
    "    num=user_input()\n",
    "    if num in range(101):\n",
    "        print(\"True\")\n",
    "    else:\n",
    "        print(\"False\")\n",
    "def user_input():\n",
    "    num=int(input(\"Enter an integer number:\"))\n",
    "    return num\n",
    "func()\n",
    "    "
   ]
  },
  {
   "cell_type": "code",
   "execution_count": 5,
   "id": "c6e50d3c-35a9-4263-89be-75dea1a15bc0",
   "metadata": {},
   "outputs": [
    {
     "name": "stdin",
     "output_type": "stream",
     "text": [
      "Enter your name: FUNDAMENTAL Computing proGram\n"
     ]
    },
    {
     "name": "stdout",
     "output_type": "stream",
     "text": [
      "Number of Uppercase letters found in your input is 13.\n",
      "Number of Lowercase letters found in your input is 14.\n"
     ]
    }
   ],
   "source": [
    "\"\"\"Write a function that has a single string as its parameter, and returns the number of\n",
    "uppercase letters, and the number of lowercase letters in the string. Test the\n",
    "function with a short program.\"\"\"\n",
    "\n",
    "def count_case():\n",
    "    name=user_input()\n",
    "    uppercase_count=0\n",
    "    lowercase_count=0\n",
    "    for char in name:\n",
    "        if char.isupper():\n",
    "            uppercase_count+=1\n",
    "        elif char.islower():\n",
    "            lowercase_count+=1\n",
    "    return uppercase_count,lowercase_count\n",
    "def user_input():\n",
    "    name=input(\"Enter your name:\")\n",
    "    return name\n",
    "def display():\n",
    "    uppercase_count, lowercase_count = count_case()\n",
    "    print(f\"Number of Uppercase letters found in your input is {uppercase_count}.\") \n",
    "    print(f\"Number of Lowercase letters found in your input is {lowercase_count}.\") \n",
    "\n",
    "display()"
   ]
  },
  {
   "cell_type": "code",
   "execution_count": 6,
   "id": "75f37077-ce95-418a-9a1b-05533e3ce052",
   "metadata": {},
   "outputs": [
    {
     "name": "stdin",
     "output_type": "stream",
     "text": [
      "Enter your name: arTHur\n"
     ]
    },
    {
     "name": "stdout",
     "output_type": "stream",
     "text": [
      "Hello, Arthur!\n"
     ]
    }
   ],
   "source": [
    "\"\"\"Modify your \"greetings\" program so that the first letter of the name entered is\n",
    "always in uppercase with the rest in lowercase. This should happen even if the user\n",
    "entered their name differently. So if the user entered arthur, ARTHUR, or even\n",
    "arTHur the name should be displayed as Arthur.\"\"\"\n",
    "def greetings():\n",
    "    name=user_input()\n",
    "    name=name.capitalize()\n",
    "    print(f\"Hello, {name}!\")\n",
    "def user_input():\n",
    "    name=input(\"Enter your name:\")\n",
    "    return name\n",
    "greetings()"
   ]
  },
  {
   "cell_type": "code",
   "execution_count": 15,
   "id": "b6704de4-c2cd-4995-afd9-2ed5d3dd1316",
   "metadata": {},
   "outputs": [
    {
     "name": "stdin",
     "output_type": "stream",
     "text": [
      "Enter your name:  s\n"
     ]
    },
    {
     "name": "stdout",
     "output_type": "stream",
     "text": [
      "Your input 's' remained unchanged due to its shortness.\n"
     ]
    }
   ],
   "source": [
    "\"\"\"When processing data it is often useful to remove the last character from some\n",
    "input (it is often a newline). Write and test a function that takes a string parameter\n",
    "and returns it with the last character removed. (If the string contains one or fewer\n",
    "characters, return it unchanged.)\"\"\"\n",
    "def char_remove(name):\n",
    "    if len(name) <= 1:\n",
    "        return name\n",
    "    else:\n",
    "        return name[:-1]\n",
    "def user_input():\n",
    "    return input(\"Enter your name: \")\n",
    "def display():\n",
    "    name = user_input() \n",
    "    modified_name = char_remove(name) \n",
    "    if len(name) <= 1:\n",
    "        print(f\"Your input '{name}' remained unchanged due to its shortness.\")\n",
    "    else:\n",
    "        print(f\"Modified name: {modified_name}\")\n",
    "\n",
    "display()\n"
   ]
  },
  {
   "cell_type": "code",
   "execution_count": 4,
   "id": "5f1c2c6f-1ac8-44d3-9b39-8147cfc528e2",
   "metadata": {},
   "outputs": [
    {
     "name": "stdin",
     "output_type": "stream",
     "text": [
      "Enter the temperature measured in degrees centigrade: 22\n"
     ]
    },
    {
     "name": "stdout",
     "output_type": "stream",
     "text": [
      "The temperature in Celsius is equivalent to 71.60°F.\n"
     ]
    },
    {
     "name": "stdin",
     "output_type": "stream",
     "text": [
      "Enter the temperature measured in Fahrenheit degree: 71\n"
     ]
    },
    {
     "name": "stdout",
     "output_type": "stream",
     "text": [
      "The temperature in Fahrenheit is equivalent to 21.67°C.\n"
     ]
    }
   ],
   "source": [
    "\"\"\"Write and test a function that converts a temperature measured in degrees\n",
    "centigrade into the equivalent in fahrenheit, and another that does the reverse\n",
    "conversion. Test both functions. (Google will find you the formulae).\"\"\"\n",
    "\n",
    "\n",
    "def celsius_to_fahrenheit():\n",
    "    celsius = user_input()\n",
    "    fahrenheit = (celsius * 9 / 5) + 32\n",
    "    return fahrenheit\n",
    "\n",
    "def user_input():\n",
    "    celsius = float(input(\"Enter the temperature measured in degrees centigrade:\"))\n",
    "    return celsius\n",
    "\n",
    "def fahrenheit_temp():\n",
    "    fahrenheit = celsius_to_fahrenheit()\n",
    "    print(f\"The temperature in Celsius is equivalent to {fahrenheit:.2f}°F.\")\n",
    "\n",
    "fahrenheit_temp()\n",
    "\n",
    "def fahrenheit_to_celsius():\n",
    "    fahrenheit = user_second_input()\n",
    "    celsius = (fahrenheit - 32) * 5 / 9\n",
    "    return celsius\n",
    "def user_second_input():\n",
    "    fahrenheit = float(input(\"Enter the temperature measured in Fahrenheit degree:\"))\n",
    "    return fahrenheit\n",
    "def celsius_temp():\n",
    "    celsius = fahrenheit_to_celsius()\n",
    "    print(f\"The temperature in Fahrenheit is equivalent to {celsius:.2f}°C.\")\n",
    "\n",
    "celsius_temp()\n"
   ]
  },
  {
   "cell_type": "code",
   "execution_count": 19,
   "id": "acb2d29d-b677-463e-b191-c80529ad2b97",
   "metadata": {},
   "outputs": [
    {
     "name": "stdin",
     "output_type": "stream",
     "text": [
      "Enter the temperature in Celsius (e.g., 22C):  22\n"
     ]
    },
    {
     "name": "stdout",
     "output_type": "stream",
     "text": [
      "Invalid input. Please enter a valid temperature ending with 'C'.\n"
     ]
    },
    {
     "name": "stdin",
     "output_type": "stream",
     "text": [
      "Enter the temperature in Celsius (e.g., 22C):  22 c\n"
     ]
    },
    {
     "name": "stdout",
     "output_type": "stream",
     "text": [
      "The temperature 22.0°C is equivalent to 71.60°F.\n"
     ]
    }
   ],
   "source": [
    "\"\"\"Write a program that takes a centigrade temperature and displays the equivalent in\n",
    "fahrenheit. The input should be a number followed by a letter C. The output should\n",
    "be in the same format.\"\"\"\n",
    "def get_temperature_input():\n",
    "    while True:\n",
    "        temp_input = input(\"Enter the temperature in Celsius (e.g., 22C): \")\n",
    "        if temp_input[-1].upper() == 'C' and temp_input[:-1].strip():\n",
    "            return temp_input\n",
    "        else:\n",
    "            print(\"Invalid input. Please enter a valid temperature ending with 'C'.\")\n",
    "\n",
    "def convert_celsius_to_fahrenheit(celsius):\n",
    "    return (celsius * 9/5) + 32\n",
    "\n",
    "def extract_celsius_value(temp_input):\n",
    "    return float(temp_input[:-1])\n",
    "\n",
    "def display_conversion(celsius, fahrenheit):\n",
    "    print(f\"The temperature {celsius}°C is equivalent to {fahrenheit:.2f}°F.\")\n",
    "\n",
    "def main():\n",
    "    temp_input = get_temperature_input()  \n",
    "    celsius_value = extract_celsius_value(temp_input) \n",
    "    fahrenheit_value = convert_celsius_to_fahrenheit(celsius_value) \n",
    "    display_conversion(celsius_value, fahrenheit_value) \n",
    "main()\n"
   ]
  },
  {
   "cell_type": "code",
   "execution_count": 10,
   "id": "0f3ce094-e13a-48bb-91c7-1cd45a5d1b1d",
   "metadata": {},
   "outputs": [
    {
     "name": "stdin",
     "output_type": "stream",
     "text": [
      "Enter the temperature in Celsius (e.g., 22C):  22\n",
      "Enter the temperature in Celsius (e.g., 22C):  22d\n",
      "Enter the temperature in Celsius (e.g., 22C):  11e\n",
      "Enter the temperature in Celsius (e.g., 22C):  22w\n",
      "Enter the temperature in Celsius (e.g., 22C):  11\n",
      "Enter the temperature in Celsius (e.g., 22C):  22e\n"
     ]
    },
    {
     "name": "stdout",
     "output_type": "stream",
     "text": [
      "Maximum Temperature: 71.60F\n",
      "Minimum Temperature: 33.80F\n",
      "Mean Temperature: 56.00F\n"
     ]
    }
   ],
   "source": [
    "\"\"\"Write a program that reads 6 temperatures (in the same format as before), and\n",
    "displays the maximum, minimum, and mean of the values.\n",
    "Hint: You should know there are built-in functions for max and min. If you hunt, you\n",
    "might also find one for the mean.\"\"\"\n",
    "import statistics\n",
    "\n",
    "def celsius_to_fahrenheit(celsius):\n",
    "    return (celsius * 9/5) + 32\n",
    "\n",
    "def user_input():\n",
    "    fahrenheit_temperatures = []\n",
    "    for i in range(6):\n",
    "        temp_input = input(\"Enter the temperature in Celsius (e.g., 22C): \")\n",
    "        celsius_value = float(temp_input[:-1])  \n",
    "        fahrenheit_temperatures.append(celsius_to_fahrenheit(celsius_value))\n",
    "    return fahrenheit_temperatures\n",
    "\n",
    "def display(fahrenheit_temperatures):\n",
    "    max_temp = max(fahrenheit_temperatures)\n",
    "    min_temp = min(fahrenheit_temperatures)\n",
    "    mean_temp = statistics.mean(fahrenheit_temperatures)\n",
    "\n",
    "    print(f\"Maximum Temperature: {max_temp:.2f}F\")\n",
    "    print(f\"Minimum Temperature: {min_temp:.2f}F\")\n",
    "    print(f\"Mean Temperature: {mean_temp:.2f}F\")\n",
    "\n",
    "def main():\n",
    "    fahrenheit_temperatures = user_input()  \n",
    "    display(fahrenheit_temperatures) \n",
    "main()\n"
   ]
  },
  {
   "cell_type": "code",
   "execution_count": 5,
   "id": "8852a6a4-cd6b-4ba4-ba65-d87a9278e3ca",
   "metadata": {},
   "outputs": [
    {
     "name": "stdin",
     "output_type": "stream",
     "text": [
      "Enter the temperature in Celsius (e.g., 22C or press Enter to finish):  2\n"
     ]
    },
    {
     "name": "stdout",
     "output_type": "stream",
     "text": [
      "Invalid input. Please enter a valid temperature (e.g., 22C).\n"
     ]
    },
    {
     "name": "stdin",
     "output_type": "stream",
     "text": [
      "Enter the temperature in Celsius (e.g., 22C or press Enter to finish):  22C\n",
      "Enter the temperature in Celsius (e.g., 22C or press Enter to finish):  \n"
     ]
    },
    {
     "name": "stdout",
     "output_type": "stream",
     "text": [
      "Maximum Temperature: 71.60F\n",
      "Minimum Temperature: 71.60F\n",
      "Mean Temperature: 71.60F\n"
     ]
    }
   ],
   "source": [
    "\"\"\"Modify the previous program so that it can process any number of values. The input\n",
    "terminates when the user just pressed \"Enter\" at the prompt rather than entering a\n",
    "value.\"\"\"\n",
    "import statistics\n",
    "\n",
    "def celsius_to_fahrenheit(celsius):\n",
    "    return (celsius * 9 / 5) + 32\n",
    "\n",
    "def user_input():\n",
    "    fahrenheit_temperatures = []\n",
    "    while True:\n",
    "        temp_input = input(\"Enter the temperature in Celsius (e.g., 22C or press Enter to finish): \")\n",
    "        if not temp_input: \n",
    "            break\n",
    "        try:\n",
    "            celsius_value = float(temp_input[:-1]) \n",
    "            fahrenheit_temperatures.append(celsius_to_fahrenheit(celsius_value))\n",
    "        except ValueError:\n",
    "            print(\"Invalid input. Please enter a valid temperature (e.g., 22C).\")\n",
    "    return fahrenheit_temperatures\n",
    "\n",
    "def display(fahrenheit_temperatures):\n",
    "    if not fahrenheit_temperatures: \n",
    "        print(\"No temperatures were entered.\")\n",
    "        return\n",
    "\n",
    "    max_temp = max(fahrenheit_temperatures)\n",
    "    min_temp = min(fahrenheit_temperatures)\n",
    "    mean_temp = statistics.mean(fahrenheit_temperatures)\n",
    "\n",
    "    print(f\"Maximum Temperature: {max_temp:.2f}F\")\n",
    "    print(f\"Minimum Temperature: {min_temp:.2f}F\")\n",
    "    print(f\"Mean Temperature: {mean_temp:.2f}F\")\n",
    "\n",
    "def main():\n",
    "    fahrenheit_temperatures = user_input()  \n",
    "    display(fahrenheit_temperatures) \n",
    "\n",
    "main()\n",
    "\n"
   ]
  },
  {
   "cell_type": "code",
   "execution_count": null,
   "id": "134c441a-957d-4471-8dd2-7dedbeb14fdf",
   "metadata": {},
   "outputs": [],
   "source": []
  }
 ],
 "metadata": {
  "kernelspec": {
   "display_name": "Python 3 (ipykernel)",
   "language": "python",
   "name": "python3"
  },
  "language_info": {
   "codemirror_mode": {
    "name": "ipython",
    "version": 3
   },
   "file_extension": ".py",
   "mimetype": "text/x-python",
   "name": "python",
   "nbconvert_exporter": "python",
   "pygments_lexer": "ipython3",
   "version": "3.11.3"
  }
 },
 "nbformat": 4,
 "nbformat_minor": 5
}
