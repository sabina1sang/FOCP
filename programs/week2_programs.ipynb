{
 "cells": [
  {
   "cell_type": "code",
   "execution_count": 11,
   "id": "2d042b54-9af5-4d6f-81cf-eb884300eb30",
   "metadata": {},
   "outputs": [
    {
     "ename": "TypeError",
     "evalue": "input() takes 0 positional arguments but 1 was given",
     "output_type": "error",
     "traceback": [
      "\u001b[1;31m---------------------------------------------------------------------------\u001b[0m",
      "\u001b[1;31mTypeError\u001b[0m                                 Traceback (most recent call last)",
      "Cell \u001b[1;32mIn[11], line 10\u001b[0m\n\u001b[0;32m      8\u001b[0m     name\u001b[38;5;241m=\u001b[39m\u001b[38;5;28minput\u001b[39m(\u001b[38;5;124m\"\u001b[39m\u001b[38;5;124mHello,what is your name?\u001b[39m\u001b[38;5;124m\"\u001b[39m)\n\u001b[0;32m      9\u001b[0m     \u001b[38;5;28;01mreturn\u001b[39;00m name\n\u001b[1;32m---> 10\u001b[0m \u001b[43mdisplay\u001b[49m\u001b[43m(\u001b[49m\u001b[43m)\u001b[49m\n",
      "Cell \u001b[1;32mIn[11], line 5\u001b[0m, in \u001b[0;36mdisplay\u001b[1;34m()\u001b[0m\n\u001b[0;32m      4\u001b[0m \u001b[38;5;28;01mdef\u001b[39;00m \u001b[38;5;21mdisplay\u001b[39m():\n\u001b[1;32m----> 5\u001b[0m     username\u001b[38;5;241m=\u001b[39m\u001b[43minput_name\u001b[49m\u001b[43m(\u001b[49m\u001b[43m)\u001b[49m\n\u001b[0;32m      6\u001b[0m     \u001b[38;5;28mprint\u001b[39m(\u001b[38;5;124mf\u001b[39m\u001b[38;5;124m\"\u001b[39m\u001b[38;5;124mHello, \u001b[39m\u001b[38;5;132;01m{\u001b[39;00musername\u001b[38;5;132;01m}\u001b[39;00m\u001b[38;5;124m. Good to meet you!\u001b[39m\u001b[38;5;124m\"\u001b[39m)\n",
      "Cell \u001b[1;32mIn[11], line 8\u001b[0m, in \u001b[0;36minput_name\u001b[1;34m()\u001b[0m\n\u001b[0;32m      7\u001b[0m \u001b[38;5;28;01mdef\u001b[39;00m \u001b[38;5;21minput_name\u001b[39m():\n\u001b[1;32m----> 8\u001b[0m     name\u001b[38;5;241m=\u001b[39m\u001b[38;5;28;43minput\u001b[39;49m\u001b[43m(\u001b[49m\u001b[38;5;124;43m\"\u001b[39;49m\u001b[38;5;124;43mHello,what is your name?\u001b[39;49m\u001b[38;5;124;43m\"\u001b[39;49m\u001b[43m)\u001b[49m\n\u001b[0;32m      9\u001b[0m     \u001b[38;5;28;01mreturn\u001b[39;00m name\n",
      "\u001b[1;31mTypeError\u001b[0m: input() takes 0 positional arguments but 1 was given"
     ]
    }
   ],
   "source": [
    "\"\"\"1. Last week you wrote a program that printed out a cheery greeting including your name. Take a copy of it, and modify it so that the user enters their name at the keyboard, and then receives a greeting. For example: \n",
    "Hello, what is your name? Mr Apricot \n",
    "Hello, Mr Apricot. Good to meet you!\"\"\"\n",
    "def display():\n",
    "    username=input_name()\n",
    "    print(f\"Hello, {username}. Good to meet you!\")\n",
    "def input_name():\n",
    "    name=input(\"Hello,what is your name?\")\n",
    "    return name\n",
    "display()"
   ]
  },
  {
   "cell_type": "code",
   "execution_count": 13,
   "id": "940747a3-9691-4af8-ba97-a311ee8884e4",
   "metadata": {},
   "outputs": [],
   "source": [
    "\"\"\"2. Write a program that prompts a user to enter a temperature in Celsius, and then displays the corresponding temperature in Fahrenheit, like so: \n",
    "Enter a temperature in Celsius: 32.5 \n",
    "32.5C is equivalent to 90.5F. \"\"\"\n",
    "def temp(celsius):\n",
    "    return (9/5) * celsius + 32\n",
    "def user_input():\n",
    "    celsius=float(input(\"Enter a temperature in Celsius:\"))\n",
    "    return celsius\n",
    "def display(celsius):\n",
    "    far=temp(celsius)\n",
    "    print(f\"{celsius}°C is equivalent to {far}°F\") \n",
    "celsius=user_input()\n",
    "display(celsius)\n"
   ]
  },
  {
   "cell_type": "code",
   "execution_count": 12,
   "id": "dc635bfa-68da-4323-ba37-8db2c8c94c18",
   "metadata": {},
   "outputs": [
    {
     "ename": "NameError",
     "evalue": "name 'sweets' is not defined",
     "output_type": "error",
     "traceback": [
      "\u001b[1;31m---------------------------------------------------------------------------\u001b[0m",
      "\u001b[1;31mNameError\u001b[0m                                 Traceback (most recent call last)",
      "Cell \u001b[1;32mIn[12], line 13\u001b[0m\n\u001b[0;32m     10\u001b[0m     \u001b[38;5;28;01melse\u001b[39;00m:\n\u001b[0;32m     11\u001b[0m         \u001b[38;5;28mprint\u001b[39m(\u001b[38;5;124mf\u001b[39m\u001b[38;5;124m\"\u001b[39m\u001b[38;5;124mYou should give \u001b[39m\u001b[38;5;132;01m{\u001b[39;00msweets_to_give\u001b[38;5;132;01m}\u001b[39;00m\u001b[38;5;124m sweets and you will have \u001b[39m\u001b[38;5;132;01m{\u001b[39;00mleft_over\u001b[38;5;132;01m}\u001b[39;00m\u001b[38;5;124m sweets left over.\u001b[39m\u001b[38;5;124m\"\u001b[39m)\n\u001b[1;32m---> 13\u001b[0m division(\u001b[43msweets\u001b[49m,pupils)\n",
      "\u001b[1;31mNameError\u001b[0m: name 'sweets' is not defined"
     ]
    }
   ],
   "source": [
    "\"\"\"4. A kindly teacher wishes to distribute a tub of sweets between her pupils. She will first count the sweets and then divide them according to how many pupils attend that day. Write a program that will tell the teacher how many sweets to give to each pupil, and how many she will have left over. \"\"\"\n",
    "def user_input():\n",
    "    sweets=int(input(\"Enter the number of sweets:\"))\n",
    "    pupils=int(input(\"Enter the number of pupils:\"))\n",
    "    return sweets,pupils\n",
    "def division(sweets,pupils):\n",
    "    sweets_to_give=int(sweets/pupils)\n",
    "    left_over=sweets%pupils\n",
    "\n",
    "    sweets_label=\"sweet\"if sweets_to_give <=1 else \"sweets\"\n",
    "    left_over_label=\"sweet\" if left_over <=1 else \"sweets\"\n",
    "    return sweets_to_give, sweets_label, left_over, left_over_label\n",
    "\n",
    "def display(sweets,pupils):\n",
    "    sweets_to_give, sweets_label, left_over, left_over_label = division(sweets, pupils)\n",
    "    print(f\"You should give {sweets_to_give} {sweets_label} and you will have {left_over} {left_over_label} left over.\")\n",
    "    \n",
    "sweets,pupils=user_input()\n",
    "display(sweets,pupils)"
   ]
  },
  {
   "cell_type": "code",
   "execution_count": 13,
   "id": "d913f6ce-afcf-4c89-b7fa-e975015b2f04",
   "metadata": {},
   "outputs": [
    {
     "ename": "TypeError",
     "evalue": "input() takes 0 positional arguments but 1 was given",
     "output_type": "error",
     "traceback": [
      "\u001b[1;31m---------------------------------------------------------------------------\u001b[0m",
      "\u001b[1;31mTypeError\u001b[0m                                 Traceback (most recent call last)",
      "Cell \u001b[1;32mIn[13], line 21\u001b[0m\n\u001b[0;32m     17\u001b[0m     student_label \u001b[38;5;241m=\u001b[39m \u001b[38;5;124m\"\u001b[39m\u001b[38;5;124mstudent\u001b[39m\u001b[38;5;124m\"\u001b[39m \u001b[38;5;28;01mif\u001b[39;00m left_over_students \u001b[38;5;241m==\u001b[39m \u001b[38;5;241m1\u001b[39m \u001b[38;5;28;01melse\u001b[39;00m \u001b[38;5;124m\"\u001b[39m\u001b[38;5;124mstudents\u001b[39m\u001b[38;5;124m\"\u001b[39m\n\u001b[0;32m     19\u001b[0m     \u001b[38;5;28mprint\u001b[39m(\u001b[38;5;124mf\u001b[39m\u001b[38;5;124m\"\u001b[39m\u001b[38;5;124mThere will be \u001b[39m\u001b[38;5;132;01m{\u001b[39;00mno_of_group\u001b[38;5;132;01m}\u001b[39;00m\u001b[38;5;124m \u001b[39m\u001b[38;5;132;01m{\u001b[39;00mgroup_label\u001b[38;5;132;01m}\u001b[39;00m\u001b[38;5;124m with \u001b[39m\u001b[38;5;132;01m{\u001b[39;00mleft_over_students\u001b[38;5;132;01m}\u001b[39;00m\u001b[38;5;124m \u001b[39m\u001b[38;5;132;01m{\u001b[39;00mstudent_label\u001b[38;5;132;01m}\u001b[39;00m\u001b[38;5;124m left over.\u001b[39m\u001b[38;5;124m\"\u001b[39m)\n\u001b[1;32m---> 21\u001b[0m no_of_students, group_size \u001b[38;5;241m=\u001b[39m \u001b[43muser_input\u001b[49m\u001b[43m(\u001b[49m\u001b[43m)\u001b[49m\n\u001b[0;32m     22\u001b[0m groups(no_of_students, group_size)\n",
      "Cell \u001b[1;32mIn[13], line 8\u001b[0m, in \u001b[0;36muser_input\u001b[1;34m()\u001b[0m\n\u001b[0;32m      7\u001b[0m \u001b[38;5;28;01mdef\u001b[39;00m \u001b[38;5;21muser_input\u001b[39m():\n\u001b[1;32m----> 8\u001b[0m     no_of_students \u001b[38;5;241m=\u001b[39m \u001b[38;5;28mint\u001b[39m(\u001b[38;5;28;43minput\u001b[39;49m\u001b[43m(\u001b[49m\u001b[38;5;124;43m\"\u001b[39;49m\u001b[38;5;124;43mHow many students? \u001b[39;49m\u001b[38;5;124;43m\"\u001b[39;49m\u001b[43m)\u001b[49m)\n\u001b[0;32m      9\u001b[0m     group_size \u001b[38;5;241m=\u001b[39m \u001b[38;5;28mint\u001b[39m(\u001b[38;5;28minput\u001b[39m(\u001b[38;5;124m\"\u001b[39m\u001b[38;5;124mRequired group size? \u001b[39m\u001b[38;5;124m\"\u001b[39m))\n\u001b[0;32m     10\u001b[0m     \u001b[38;5;28;01mreturn\u001b[39;00m no_of_students, group_size\n",
      "\u001b[1;31mTypeError\u001b[0m: input() takes 0 positional arguments but 1 was given"
     ]
    }
   ],
   "source": [
    "\"\"\"3. The Head of Computing at the University of Poppleton is tasked with dividing a group of students into lab groups. A lab group is usually 24 students, but this is sometimes varied to create groups of similar size. Write a program that prompts for the number of students and group size, and then displays how many groups will be needed and how many will be left over in a smaller group. \n",
    "How many students? 113 \n",
    "Required group size? 22 \n",
    "There will be 5 groups with 3 students left over. For bonus credit, see if you can fix the grammar in the output. So if there were 101 students in groups of 20 the output would be: \n",
    "There will be 5 groups with 1 student left over.\"\"\"\n",
    "\n",
    "def user_input():\n",
    "    no_of_students = int(input(\"How many students? \"))\n",
    "    group_size = int(input(\"Required group size? \"))\n",
    "    return no_of_students, group_size\n",
    "\n",
    "def groups(no_of_students, group_size):\n",
    "    no_of_group = no_of_students // group_size\n",
    "    left_over_students = no_of_students % group_size\n",
    "\n",
    "    group_label = \"group\" if no_of_group <= 1 else \"groups\"\n",
    "    student_label = \"student\" if left_over_students <= 1 else \"students\"\n",
    "    return no_of_group,left_over_students,group_label,student_label\n",
    "def display(no_of_students, group_size):\n",
    "    no_of_group,left_over_students,group_label,student_label=groups(no_of_students, group_size)\n",
    "    print(f\"There will be {no_of_group} {group_label} with {left_over_students} {student_label} left over.\")\n",
    "\n",
    "no_of_students, group_size = user_input()\n",
    "display(no_of_students, group_size)\n"
   ]
  },
  {
   "cell_type": "code",
   "execution_count": null,
   "id": "854a4f06-f112-4979-a61e-6a6a820d5329",
   "metadata": {},
   "outputs": [],
   "source": []
  }
 ],
 "metadata": {
  "kernelspec": {
   "display_name": "Python 3 (ipykernel)",
   "language": "python",
   "name": "python3"
  },
  "language_info": {
   "codemirror_mode": {
    "name": "ipython",
    "version": 3
   },
   "file_extension": ".py",
   "mimetype": "text/x-python",
   "name": "python",
   "nbconvert_exporter": "python",
   "pygments_lexer": "ipython3",
   "version": "3.11.3"
  }
 },
 "nbformat": 4,
 "nbformat_minor": 5
}
