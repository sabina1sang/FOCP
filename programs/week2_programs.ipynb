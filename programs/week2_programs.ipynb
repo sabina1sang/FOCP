{
 "cells": [
  {
   "cell_type": "code",
   "execution_count": 1,
   "id": "2d042b54-9af5-4d6f-81cf-eb884300eb30",
   "metadata": {},
   "outputs": [
    {
     "name": "stdin",
     "output_type": "stream",
     "text": [
      "Hello,what is your name? Susmita Sangraula\n"
     ]
    },
    {
     "name": "stdout",
     "output_type": "stream",
     "text": [
      "Hello, Susmita Sangraula. Good to meet you!\n"
     ]
    }
   ],
   "source": [
    "\"\"\"1. Last week you wrote a program that printed out a cheery greeting including your name. Take a copy of it, and modify it so that the user enters their name at the keyboard, and then receives a greeting. For example: \n",
    "Hello, what is your name? Mr Apricot \n",
    "Hello, Mr Apricot. Good to meet you!\"\"\"\n",
    "def display():\n",
    "    username=input_name()\n",
    "    print(f\"Hello, {username}. Good to meet you!\")\n",
    "def input_name():\n",
    "    name=input(\"Hello,what is your name?\")\n",
    "    return name\n",
    "display()"
   ]
  },
  {
   "cell_type": "code",
   "execution_count": 3,
   "id": "940747a3-9691-4af8-ba97-a311ee8884e4",
   "metadata": {},
   "outputs": [
    {
     "name": "stdin",
     "output_type": "stream",
     "text": [
      "Enter a temperature in Celsius: 33\n"
     ]
    },
    {
     "name": "stdout",
     "output_type": "stream",
     "text": [
      "33.0°C is equivalent to 91.4°F\n"
     ]
    }
   ],
   "source": [
    "\"\"\"2. Write a program that prompts a user to enter a temperature in Celsius, and then displays the corresponding temperature in Fahrenheit, like so: \n",
    "Enter a temperature in Celsius: 32.5 \n",
    "32.5C is equivalent to 90.5F. \"\"\"\n",
    "def temp(celsius):\n",
    "    return (9/5) * celsius + 32\n",
    "def display(celsius):\n",
    "    far=temp(celsius)\n",
    "    print(f\"{celsius}°C is equivalent to {far}°F\") \n",
    "def user_input():\n",
    "    celsius=float(input(\"Enter a temperature in Celsius:\"))\n",
    "    return celsius\n",
    "celsius=user_input()\n",
    "display(celsius)\n"
   ]
  },
  {
   "cell_type": "code",
   "execution_count": 4,
   "id": "dc635bfa-68da-4323-ba37-8db2c8c94c18",
   "metadata": {},
   "outputs": [
    {
     "name": "stdin",
     "output_type": "stream",
     "text": [
      "Enter the number of sweets: 118\n",
      "Enter the number of pupils: 22\n"
     ]
    },
    {
     "name": "stdout",
     "output_type": "stream",
     "text": [
      "You should give 5 sweets and you will have 8 sweets left over.\n"
     ]
    }
   ],
   "source": [
    "\"\"\"4. A kindly teacher wishes to distribute a tub of sweets between her pupils. She will first count the sweets and then divide them according to how many pupils attend that day. Write a program that will tell the teacher how many sweets to give to each pupil, and how many she will have left over. \"\"\"\n",
    "def division(sweets,pupils):\n",
    "    sweets_to_give=int(sweets/pupils)\n",
    "    left_over=sweets%pupils\n",
    "\n",
    "    sweets_label=\"sweet\"if sweets_to_give <=1 else \"sweets\"\n",
    "    left_over_label=\"sweet\" if left_over <=1 else \"sweets\"\n",
    "    return sweets_to_give, sweets_label, left_over, left_over_label\n",
    "def user_input():\n",
    "    sweets=int(input(\"Enter the number of sweets:\"))\n",
    "    pupils=int(input(\"Enter the number of pupils:\"))\n",
    "    return sweets,pupils\n",
    "def display(sweets,pupils):\n",
    "    sweets_to_give, sweets_label, left_over, left_over_label = division(sweets, pupils)\n",
    "    print(f\"You should give {sweets_to_give} {sweets_label} and you will have {left_over} {left_over_label} left over.\")\n",
    "    \n",
    "sweets,pupils=user_input()\n",
    "display(sweets,pupils)"
   ]
  },
  {
   "cell_type": "code",
   "execution_count": 5,
   "id": "d913f6ce-afcf-4c89-b7fa-e975015b2f04",
   "metadata": {},
   "outputs": [
    {
     "name": "stdin",
     "output_type": "stream",
     "text": [
      "How many students?  112\n",
      "Required group size?  3\n"
     ]
    },
    {
     "name": "stdout",
     "output_type": "stream",
     "text": [
      "There will be 37 groups with 1 student left over.\n"
     ]
    }
   ],
   "source": [
    "\"\"\"3. The Head of Computing at the University of Poppleton is tasked with dividing a group of students into lab groups. A lab group is usually 24 students, but this is sometimes varied to create groups of similar size. Write a program that prompts for the number of students and group size, and then displays how many groups will be needed and how many will be left over in a smaller group. \n",
    "How many students? 113 \n",
    "Required group size? 22 \n",
    "There will be 5 groups with 3 students left over. For bonus credit, see if you can fix the grammar in the output. So if there were 101 students in groups of 20 the output would be: \n",
    "There will be 5 groups with 1 student left over.\"\"\"\n",
    "\n",
    "\n",
    "def groups(no_of_students, group_size):\n",
    "    no_of_group = no_of_students // group_size\n",
    "    left_over_students = no_of_students % group_size\n",
    "\n",
    "    group_label = \"group\" if no_of_group <= 1 else \"groups\"\n",
    "    student_label = \"student\" if left_over_students <= 1 else \"students\"\n",
    "    return no_of_group,left_over_students,group_label,student_label\n",
    "def user_input():\n",
    "    no_of_students = int(input(\"How many students? \"))\n",
    "    group_size = int(input(\"Required group size? \"))\n",
    "    return no_of_students, group_size\n",
    "def display(no_of_students, group_size):\n",
    "    no_of_group,left_over_students,group_label,student_label=groups(no_of_students, group_size)\n",
    "    print(f\"There will be {no_of_group} {group_label} with {left_over_students} {student_label} left over.\")\n",
    "\n",
    "no_of_students, group_size = user_input()\n",
    "display(no_of_students, group_size)\n"
   ]
  },
  {
   "cell_type": "code",
   "execution_count": null,
   "id": "854a4f06-f112-4979-a61e-6a6a820d5329",
   "metadata": {},
   "outputs": [],
   "source": []
  }
 ],
 "metadata": {
  "kernelspec": {
   "display_name": "Python 3 (ipykernel)",
   "language": "python",
   "name": "python3"
  },
  "language_info": {
   "codemirror_mode": {
    "name": "ipython",
    "version": 3
   },
   "file_extension": ".py",
   "mimetype": "text/x-python",
   "name": "python",
   "nbconvert_exporter": "python",
   "pygments_lexer": "ipython3",
   "version": "3.11.3"
  }
 },
 "nbformat": 4,
 "nbformat_minor": 5
}
