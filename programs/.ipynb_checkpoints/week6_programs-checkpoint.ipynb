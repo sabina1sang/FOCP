{
 "cells": [
  {
   "cell_type": "code",
   "execution_count": 6,
   "id": "f92ef05d-8e9a-40b9-80df-e86290fa2247",
   "metadata": {},
   "outputs": [
    {
     "name": "stdin",
     "output_type": "stream",
     "text": [
      "Enter a positive integer:  -9\n"
     ]
    },
    {
     "name": "stdout",
     "output_type": "stream",
     "text": [
      "Invalid input. Please enter a positive integer.\n"
     ]
    },
    {
     "name": "stdin",
     "output_type": "stream",
     "text": [
      "Enter a positive integer:  2\n"
     ]
    },
    {
     "name": "stdout",
     "output_type": "stream",
     "text": [
      "Binary representation of 2: 10\n"
     ]
    }
   ],
   "source": [
    "\"\"\"Write a function that accepts a positive integer as a parameter and then returns a\n",
    "representation of that number in binary (base 2).\"\"\"\n",
    "def integer_to_binary(number):\n",
    "    if number <= 0:\n",
    "        raise ValueError(\"The number must be a positive integer.\")\n",
    "    binary_num = bin(number)[2:]\n",
    "    return binary_num\n",
    "\n",
    "def user_input():\n",
    "    try:\n",
    "        number = int(input(\"Enter a positive integer: \"))\n",
    "        if number <= 0:\n",
    "            raise ValueError\n",
    "        return number\n",
    "    except ValueError:\n",
    "        print(\"Invalid input. Please enter a positive integer.\")\n",
    "        return user_input()\n",
    "\n",
    "def display(number):\n",
    "    binary_representation = integer_to_binary(number)\n",
    "    print(f\"Binary representation of {number}: {binary_representation}\")\n",
    "\n",
    "def main():\n",
    "    number = user_input()\n",
    "    display(number)\n",
    "\n",
    "main()\n",
    "\n"
   ]
  },
  {
   "cell_type": "code",
   "execution_count": 19,
   "id": "412c638e-550f-47fe-82d2-86b7d43a6a47",
   "metadata": {},
   "outputs": [
    {
     "name": "stdin",
     "output_type": "stream",
     "text": [
      "Enter a number to find its factors:  9\n"
     ]
    },
    {
     "name": "stdout",
     "output_type": "stream",
     "text": [
      "The factors of 9 are: [1, 3, 9]\n"
     ]
    }
   ],
   "source": [
    "\"\"\"Write and test a function that takes an integer as its parameter and returns the\n",
    "factors of that integer. (A factor is an integer which can be multiplied by another to\n",
    "yield the original).\"\"\"\n",
    "def factors(number):\n",
    "    factor_number = []\n",
    "    for i in range(1, number + 1):\n",
    "        if number % i == 0:\n",
    "            factor_number.append(i)\n",
    "    return factor_number\n",
    "\n",
    "def user_input():\n",
    "    number = int(input(\"Enter a number to find its factors: \"))\n",
    "    return number\n",
    "def display():\n",
    "    number=user_input()\n",
    "    finalfactors=factors(number)\n",
    "    print(f\"The factors of {number} are: {finalfactors}\")\n",
    "display()\n"
   ]
  },
  {
   "cell_type": "code",
   "execution_count": 4,
   "id": "3bc19ab0-c13b-4d7c-b331-79a5ca64ebaf",
   "metadata": {},
   "outputs": [
    {
     "name": "stdin",
     "output_type": "stream",
     "text": [
      "Enter a number:  2.5\n"
     ]
    },
    {
     "name": "stdout",
     "output_type": "stream",
     "text": [
      "Invalid input. Please enter an integer.\n"
     ]
    },
    {
     "name": "stdin",
     "output_type": "stream",
     "text": [
      "Enter a number:  2\n"
     ]
    },
    {
     "name": "stdout",
     "output_type": "stream",
     "text": [
      "2 is a prime number.\n"
     ]
    }
   ],
   "source": [
    "\"\"\"Write and test a function that determines if a given integer is a prime number. A\n",
    "prime number is an integer greater than 1 that cannot be produced by multiplying\n",
    "two other integers.\"\"\"\n",
    "def is_prime(number):\n",
    "    if number <= 1:\n",
    "        return False\n",
    "    for i in range(2, int(number**0.5) + 1):\n",
    "        if number % i == 0:\n",
    "            return False\n",
    "    return True\n",
    "\n",
    "def user_input():\n",
    "    try:\n",
    "        number = int(input(\"Enter a number: \"))\n",
    "        return number\n",
    "    except ValueError:\n",
    "        print(\"Invalid input. Please enter an integer.\")\n",
    "        return user_input()\n",
    "\n",
    "def main():\n",
    "    number = user_input()\n",
    "    if is_prime(number):\n",
    "        print(f\"{number} is a prime number.\")\n",
    "    else:\n",
    "        print(f\"{number} is not a prime number.\")\n",
    "\n",
    "if __name__ == \"__main__\":\n",
    "    main()\n"
   ]
  },
  {
   "cell_type": "code",
   "execution_count": null,
   "id": "a25d0b8f-9056-48bc-bb2f-f0928cb745e4",
   "metadata": {},
   "outputs": [],
   "source": [
    "\"\"\"Computers are commonly used in encryption. A very simple form of encryption\n",
    "(more accurately \"obfuscation\") would be to remove the spaces from a message\n",
    "and reverse the resulting string. Write, and test, a function that takes a string\n",
    "containing a message and \"encrypts\" it in this way.\"\"\"\n",
    "def encryption(message):\n",
    "    message_no_spaces = message.replace(\" \", \"\")\n",
    "    encrypted_message = message_no_spaces[::-1]\n",
    "    return encrypted_message\n",
    "\n",
    "def user_input():\n",
    "    message = input(\"Enter a message to encrypt: \")\n",
    "def display():\n",
    "    message=user_input()\n",
    "    encrypted_message = encryption(message)\n",
    "    print(f\"Encrypted message: {encrypted_message}\")\n",
    "display()\n"
   ]
  },
  {
   "cell_type": "code",
   "execution_count": 10,
   "id": "488cb75d-814c-4f34-a49d-127452bcde4c",
   "metadata": {},
   "outputs": [
    {
     "name": "stdin",
     "output_type": "stream",
     "text": [
      "Enter a message to encrypt:  e\n"
     ]
    },
    {
     "name": "stdout",
     "output_type": "stream",
     "text": [
      "Encrypted message: e\n",
      "Interval used: 18\n"
     ]
    }
   ],
   "source": [
    "\"\"\"Another way to hide a message is to include the letters that make it up within\n",
    "seemingly random text. The letters of the message might be every fifth character,\n",
    "for example. Write and test a function that does such encryption. It should\n",
    "randomly generate an interval (between 2 and 20), space the message out\n",
    "accordingly, and should fill the gaps with random letters. The function should\n",
    "return the encrypted message and the interval used.\n",
    "For example, if the message is \"send cheese\", the random interval is 2, and for\n",
    "clarity the random letters are not random:\n",
    "send cheese\n",
    "s e n d c h e e s e\n",
    "sxyexynxydxy cxyhxyexyexysxye\"\"\"\n",
    "import random\n",
    "import string\n",
    "\n",
    "def encrypt_message(message):\n",
    "    interval = random.randint(2, 20)\n",
    "    encrypted_message = []\n",
    "    \n",
    "    for i, char in enumerate(message):\n",
    "        if i > 0 and i % interval == 0:\n",
    "            random_char = random.choice(string.ascii_lowercase)\n",
    "            encrypted_message.append(random_char)\n",
    "        encrypted_message.append(char)\n",
    "    encrypted_message_str = ''.join(encrypted_message)\n",
    "    \n",
    "    return encrypted_message_str, interval\n",
    "\n",
    "\n",
    "def main():\n",
    "    message = input(\"Enter a message to encrypt: \")\n",
    "\n",
    "    encrypted_message, interval = encrypt_message(message)\n",
    "\n",
    "    print(f\"Encrypted message: {encrypted_message}\")\n",
    "    print(f\"Interval used: {interval}\")\n",
    "\n",
    "if __name__ == \"__main__\":\n",
    "    main()\n"
   ]
  },
  {
   "cell_type": "code",
   "execution_count": 14,
   "id": "9061a251-e642-402b-9ea0-9f9f05a32581",
   "metadata": {},
   "outputs": [
    {
     "name": "stdin",
     "output_type": "stream",
     "text": [
      "Enter the encrypted message:  hello python to this world\n",
      "Enter the interval used during encryption:  3\n"
     ]
    },
    {
     "name": "stdout",
     "output_type": "stream",
     "text": [
      "Decrypted message: hlph  iwl\n"
     ]
    }
   ],
   "source": [
    "\"\"\"Write a program that decrypts messages encoded as above.\"\"\"\n",
    "def decrypt_message(encrypted_message, interval):\n",
    "    decrypted_message = \"\"\n",
    "    for i in range(0, len(encrypted_message), interval):\n",
    "        decrypted_message += encrypted_message[i]\n",
    "    \n",
    "    return decrypted_message\n",
    "\n",
    "def main():\n",
    "    encrypted_message = input(\"Enter the encrypted message: \")\n",
    "    interval = int(input(\"Enter the interval used during encryption: \"))\n",
    "    decrypted_message = decrypt_message(encrypted_message, interval)\n",
    "    print(f\"Decrypted message: {decrypted_message}\")\n",
    "\n",
    "if __name__ == \"__main__\":\n",
    "    main()\n"
   ]
  }
 ],
 "metadata": {
  "kernelspec": {
   "display_name": "Python 3 (ipykernel)",
   "language": "python",
   "name": "python3"
  },
  "language_info": {
   "codemirror_mode": {
    "name": "ipython",
    "version": 3
   },
   "file_extension": ".py",
   "mimetype": "text/x-python",
   "name": "python",
   "nbconvert_exporter": "python",
   "pygments_lexer": "ipython3",
   "version": "3.11.3"
  }
 },
 "nbformat": 4,
 "nbformat_minor": 5
}
