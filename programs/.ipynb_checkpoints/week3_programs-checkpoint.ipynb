{
 "cells": [
  {
   "cell_type": "code",
   "execution_count": 2,
   "id": "4fbd3efe-57f3-4665-bbf2-dca25ce837d8",
   "metadata": {},
   "outputs": [
    {
     "name": "stdin",
     "output_type": "stream",
     "text": [
      "Enter your name: \n"
     ]
    },
    {
     "name": "stdout",
     "output_type": "stream",
     "text": [
      "Hello, Stranger!.\n"
     ]
    }
   ],
   "source": [
    "\"\"\"Modify your greeting program so that if the user does not enter a name (i.e. they\n",
    "just press enter), the program responds \"Hello, Stranger!\". Otherwise it should print\n",
    "a greeting with their name as before.\"\"\"\n",
    "def display():\n",
    "    name=user_input()\n",
    "    if name==\"\":\n",
    "        print(\"Hello, Stranger!.\")\n",
    "    else:\n",
    "        print(f\"Hello, {name}!\")\n",
    "def user_input():\n",
    "    name=input(\"Enter your name:\")\n",
    "    return name\n",
    "display()"
   ]
  },
  {
   "cell_type": "code",
   "execution_count": 3,
   "id": "3d612933-3853-42e0-97e1-63b8b77d8c2e",
   "metadata": {},
   "outputs": [
    {
     "name": "stdin",
     "output_type": "stream",
     "text": [
      "Enter your password: programming\n",
      "Confirm your password: programming\n"
     ]
    },
    {
     "name": "stdout",
     "output_type": "stream",
     "text": [
      "Password Set\n"
     ]
    }
   ],
   "source": [
    "\"\"\"Write a program that simulates the way in which a user might choose a password.\n",
    "The program should prompt for a new password, and then prompt again. If the two\n",
    "passwords entered are the same the program should say \"Password Set\" or\n",
    "similar, otherwise it should report an error.\"\"\"\n",
    "def display():\n",
    "    while True:\n",
    "        password1,password2=password()\n",
    "        if password1==password2:\n",
    "            print(\"Password Set\")\n",
    "            break\n",
    "        else:\n",
    "            print(\"Password didn't match! Please, re-enter the password.\")\n",
    "def password():\n",
    "    password1=input(\"Enter your password:\")\n",
    "    password2=input(\"Confirm your password:\")\n",
    "    return password1, password2\n",
    "display()"
   ]
  },
  {
   "cell_type": "code",
   "execution_count": 4,
   "id": "d235d6ef-6585-4d9e-a569-9b9ee3172799",
   "metadata": {},
   "outputs": [
    {
     "name": "stdin",
     "output_type": "stream",
     "text": [
      "Enter your password (8 to 12 characters):  python programming\n",
      "Confirm your password:  python programming\n"
     ]
    },
    {
     "name": "stdout",
     "output_type": "stream",
     "text": [
      "There is an error while inputting password. You have to re-enter the password.\n"
     ]
    },
    {
     "name": "stdin",
     "output_type": "stream",
     "text": [
      "Enter your password (8 to 12 characters):  programm\n",
      "Confirm your password:  programm\n"
     ]
    },
    {
     "name": "stdout",
     "output_type": "stream",
     "text": [
      "Password Set\n"
     ]
    }
   ],
   "source": [
    "\"\"\"Modify your previous program so that the password must be between 8 and 12\n",
    "characters (inclusive) long.\"\"\"\n",
    "\n",
    "def password():\n",
    "    while True:\n",
    "        password1, password2 = user_input()\n",
    "        \n",
    "        if password1 == password2 and 8 <= len(password1) <= 12:\n",
    "            print(\"Password Set\")\n",
    "            break\n",
    "        else:\n",
    "            print(\"There is an error while inputting password. You have to re-enter the password.\")\n",
    "def user_input():\n",
    "    password1 = input(\"Enter your password (8 to 12 characters): \")\n",
    "    password2 = input(\"Confirm your password: \")\n",
    "    return password1, password2\n",
    "password()"
   ]
  },
  {
   "cell_type": "code",
   "execution_count": 5,
   "id": "0500db4c-93b7-4d28-a0db-b5f0c6394f62",
   "metadata": {},
   "outputs": [
    {
     "name": "stdin",
     "output_type": "stream",
     "text": [
      "Enter your password (8 to 12 characters):  hello\n",
      "Confirm your password:  hello\n"
     ]
    },
    {
     "name": "stdout",
     "output_type": "stream",
     "text": [
      "Weak Password. Please choose a stronger one.\n"
     ]
    },
    {
     "name": "stdin",
     "output_type": "stream",
     "text": [
      "Enter your password (8 to 12 characters):  pass word\n",
      "Confirm your password:  pass word\n"
     ]
    },
    {
     "name": "stdout",
     "output_type": "stream",
     "text": [
      "Password cannot contain spaces. Please try again.\n"
     ]
    },
    {
     "name": "stdin",
     "output_type": "stream",
     "text": [
      "Enter your password (8 to 12 characters):  programm\n",
      "Confirm your password:  programm\n"
     ]
    },
    {
     "name": "stdout",
     "output_type": "stream",
     "text": [
      "Password set successfully!\n"
     ]
    }
   ],
   "source": [
    "\"\"\"Modify your program again so that the chosen password cannot be one of a list of\n",
    "common passwords, defined thus:\n",
    "BAD_PASSWORDS = ['password', 'letmein', 'sesame', 'hello', 'justinbieber']\"\"\"\n",
    "def display():\n",
    "    while True:\n",
    "        password1,password2=password()\n",
    "        BAD_PASSWORDS = ['password', 'letmein', 'sesame', 'hello', 'justinbieber']\n",
    "        if password1!=password2:\n",
    "            print(\"Passwords do not match. Please re-enter.\")\n",
    "        elif password1 in BAD_PASSWORDS:\n",
    "            print(\"Weak Password. Please choose a stronger one.\")\n",
    "        elif \" \" in password1:\n",
    "            print(\"Password cannot contain spaces. Please try again.\")\n",
    "        elif 8 > len(password1) > 12 :\n",
    "            print(\"Password length must be between 8 and 12 characters.\")\n",
    "        else:\n",
    "            print(\"Password set successfully!\")\n",
    "            break\n",
    "def password():\n",
    "    password1 = input(\"Enter your password (8 to 12 characters): \").strip()\n",
    "    password2 = input(\"Confirm your password: \").strip()\n",
    "    return password1, password2        \n",
    "display()"
   ]
  },
  {
   "cell_type": "code",
   "execution_count": 6,
   "id": "edea1193-f7ab-4852-8020-4792ac4d08a8",
   "metadata": {},
   "outputs": [
    {
     "name": "stdout",
     "output_type": "stream",
     "text": [
      "Welcome! Please set a secure password.\n"
     ]
    },
    {
     "name": "stdin",
     "output_type": "stream",
     "text": [
      "Enter your password (8 to 12 characters):  password\n",
      "Confirm your password:  password\n"
     ]
    },
    {
     "name": "stdout",
     "output_type": "stream",
     "text": [
      "Weak password. Please choose a stronger one.\n"
     ]
    },
    {
     "name": "stdin",
     "output_type": "stream",
     "text": [
      "Enter your password (8 to 12 characters):  program\n",
      "Confirm your password:  program\n"
     ]
    },
    {
     "name": "stdout",
     "output_type": "stream",
     "text": [
      "Password set successfully!\n"
     ]
    }
   ],
   "source": [
    "\"\"\"Modify your program a final time so that it executes until the user successfully\n",
    "chooses a password. That is, if the password chosen fails any of the checks, the\n",
    "program should return to asking for the password the first time.\"\"\"\n",
    "def display():\n",
    "    BAD_PASSWORDS = ['password', 'letmein', 'sesame', 'hello', 'justinbieber']\n",
    "    print(\"Welcome! Please set a secure password.\")\n",
    "\n",
    "    while True:\n",
    "        password1, password2 = password()\n",
    "        if not password1 or not password2:\n",
    "            print(\"Passwords cannot be empty. Please try again.\")\n",
    "        elif 8 > len(password1) > 12:\n",
    "            print(\"Password length must be between 8 and 12 characters. Please try again.\")\n",
    "        elif \" \" in password1:\n",
    "            print(\"Password cannot contain spaces. Please try again.\")\n",
    "        elif password1 != password2:\n",
    "            print(\"Passwords do not match. Please re-enter.\")\n",
    "        elif password1 in BAD_PASSWORDS:\n",
    "            print(\"Weak password. Please choose a stronger one.\")\n",
    "        else:\n",
    "            print(\"Password set successfully!\")\n",
    "            break\n",
    "\n",
    "def password():\n",
    "    password1 = input(\"Enter your password (8 to 12 characters): \").strip()\n",
    "    password2 = input(\"Confirm your password: \").strip()\n",
    "    return password1, password2\n",
    "display()"
   ]
  },
  {
   "cell_type": "code",
   "execution_count": 7,
   "id": "eb7927c6-8a71-4b55-97f2-978ddcb967e3",
   "metadata": {},
   "outputs": [
    {
     "name": "stdout",
     "output_type": "stream",
     "text": [
      "0 * 7 = 0\n",
      "1 * 7 = 7\n",
      "2 * 7 = 14\n",
      "3 * 7 = 21\n",
      "4 * 7 = 28\n",
      "5 * 7 = 35\n",
      "6 * 7 = 42\n",
      "7 * 7 = 49\n",
      "8 * 7 = 56\n",
      "9 * 7 = 63\n",
      "10 * 7 = 70\n",
      "11 * 7 = 77\n",
      "12 * 7 = 84\n"
     ]
    }
   ],
   "source": [
    "\"\"\"Write a program that displays the \"Seven Times Table\". That is, the result of\n",
    "multiplying 7 by every number from 0 to 12 inclusive. The output might start:\n",
    "0 x 7 = 0\n",
    "1 x 7 = 7\n",
    "2 x 7 = 14\n",
    "and so on.\"\"\"\n",
    "\n",
    "def table():\n",
    "    num=7\n",
    "    for i in range(0,13):\n",
    "        print(f\"{i} * {num} = {i*num}\")\n",
    "table()"
   ]
  },
  {
   "cell_type": "code",
   "execution_count": 8,
   "id": "7d12fc77-d456-4798-af3f-36fd05f06601",
   "metadata": {},
   "outputs": [
    {
     "name": "stdin",
     "output_type": "stream",
     "text": [
      "Enter the number of which you want to calculate the multiplication table: 3\n"
     ]
    },
    {
     "name": "stdout",
     "output_type": "stream",
     "text": [
      "0 * 3 = 0\n",
      "1 * 3 = 3\n",
      "2 * 3 = 6\n",
      "3 * 3 = 9\n",
      "4 * 3 = 12\n",
      "5 * 3 = 15\n",
      "6 * 3 = 18\n",
      "7 * 3 = 21\n",
      "8 * 3 = 24\n",
      "9 * 3 = 27\n",
      "10 * 3 = 30\n",
      "11 * 3 = 33\n",
      "12 * 3 = 36\n"
     ]
    }
   ],
   "source": [
    "\"\"\"Modify your \"Times Table\" program so that the user enters the number of the table\n",
    "they require. This number should be between 0 and 12 inclusive.\"\"\"\n",
    "def table():\n",
    "    num1=user_input()\n",
    "    for i in range(0,13):\n",
    "        print(f\"{i} * {num1} = {i*num1}\")\n",
    "def user_input():\n",
    "    num=int(input(\"Enter the number of which you want to calculate the multiplication table:\"))\n",
    "    return num\n",
    "table()"
   ]
  },
  {
   "cell_type": "code",
   "execution_count": 9,
   "id": "80e405b2-bdc7-4e05-8212-ddbcecdefae4",
   "metadata": {},
   "outputs": [
    {
     "name": "stdin",
     "output_type": "stream",
     "text": [
      "Enter the number of which you want to calculate the multiplication table: -13\n"
     ]
    },
    {
     "name": "stdout",
     "output_type": "stream",
     "text": [
      "13 * -13 = -169\n",
      "12 * -13 = -156\n",
      "11 * -13 = -143\n",
      "10 * -13 = -130\n",
      "9 * -13 = -117\n",
      "8 * -13 = -104\n",
      "7 * -13 = -91\n",
      "6 * -13 = -78\n",
      "5 * -13 = -65\n",
      "4 * -13 = -52\n",
      "3 * -13 = -39\n",
      "2 * -13 = -26\n",
      "1 * -13 = -13\n"
     ]
    }
   ],
   "source": [
    "\"\"\"Modify the \"Times Table\" again so that the user still enters the number of the table,\n",
    "but if this number is negative the table is printed backwards. So entering \"-7\"\n",
    "would produce the Seven Times Table starting at \"12 times\" down to \"0 times\".\"\"\"\n",
    "def TimesTable():\n",
    "    num=user_input()\n",
    "    if num>0:\n",
    "        for i in range(13):\n",
    "            print(f\"{i} * {num} = {i*num}\")\n",
    "    else:\n",
    "        for i in range(-13,0):\n",
    "            print(f\"{-i} * {num} = {-i*num}\")\n",
    "def user_input():\n",
    "    num=int(input(\"Enter the number of which you want to calculate the multiplication table:\"))\n",
    "    return num\n",
    "TimesTable()"
   ]
  },
  {
   "cell_type": "code",
   "execution_count": null,
   "id": "20079670-ccac-4955-b78e-10820901e81b",
   "metadata": {},
   "outputs": [],
   "source": []
  }
 ],
 "metadata": {
  "kernelspec": {
   "display_name": "Python 3 (ipykernel)",
   "language": "python",
   "name": "python3"
  },
  "language_info": {
   "codemirror_mode": {
    "name": "ipython",
    "version": 3
   },
   "file_extension": ".py",
   "mimetype": "text/x-python",
   "name": "python",
   "nbconvert_exporter": "python",
   "pygments_lexer": "ipython3",
   "version": "3.11.3"
  }
 },
 "nbformat": 4,
 "nbformat_minor": 5
}
