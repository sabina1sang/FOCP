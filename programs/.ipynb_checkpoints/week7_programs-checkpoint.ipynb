{
 "cells": [
  {
   "cell_type": "code",
   "execution_count": 5,
   "id": "8b2bded9-e502-4667-b8c4-707301db3e6d",
   "metadata": {},
   "outputs": [
    {
     "name": "stdin",
     "output_type": "stream",
     "text": [
      "Enter a random word: ssabina\n"
     ]
    },
    {
     "name": "stdout",
     "output_type": "stream",
     "text": [
      "The sorted unique letters are ['a', 'b', 'i', 'n', 's'].\n"
     ]
    }
   ],
   "source": [
    "\"\"\"Write and test a function that takes a string as a parameter and returns a sorted list\n",
    "of all the unique letters used in the string. So, if the string is cheese, the list\n",
    "returned should be ['c', 'e', 'h', 's'].\"\"\"\n",
    "def sortedunique_letters(word):\n",
    "    unique_letters = sorted(set(word))\n",
    "    return unique_letters\n",
    "def user_input():\n",
    "    word=input(\"Enter a random word:\")\n",
    "    return word\n",
    "def display():\n",
    "    word=user_input()\n",
    "    letters=sortedunique_letters(word)\n",
    "    print(f\"The sorted unique letters are {letters}.\")\n",
    "display()    "
   ]
  },
  {
   "cell_type": "code",
   "execution_count": 8,
   "id": "e0754725-b0e3-4ad1-9b5f-61d363625798",
   "metadata": {},
   "outputs": [
    {
     "name": "stdin",
     "output_type": "stream",
     "text": [
      "Enter the first word:  apple\n",
      "Enter the second word:  banana\n",
      "Enter the third word:  coconut\n"
     ]
    },
    {
     "name": "stdout",
     "output_type": "stream",
     "text": [
      "Letters in at least one word: ['a', 'b', 'c', 'e', 'l', 'n', 'o', 'p', 't', 'u']\n",
      "Letters in all three words: []\n",
      "Letters in either word but not in all: ['b', 'c', 'e', 'l', 'o', 'p', 't', 'u']\n"
     ]
    }
   ],
   "source": [
    "\"\"\"Write and test three functions that each take two words (strings) as parameters and\n",
    "return sorted lists (as defined above) representing respectively:\n",
    "Letters that appear in at least one of the two words.\n",
    "Letters that appear in both words.\n",
    "Letters that appear in either word, but not in both.\n",
    "Hint: These could all be done programmatically, but consider carefully what topic we\n",
    "have been discussing this week! Each function can be exactly one line.\"\"\"\n",
    "def union_of_words(word1, word2, word3):\n",
    "    return sorted(list(set(word1) | set(word2) | set(word3)))\n",
    "\n",
    "def common_letters(word1, word2, word3):\n",
    "    return sorted(list(set(word1) & set(word2) & set(word3)))\n",
    "\n",
    "def different_letters(word1, word2, word3):\n",
    "    return sorted(list(set(word1) ^ set(word2) ^ set(word3)))\n",
    "\n",
    "def user_inputs():\n",
    "    word1 = input(\"Enter the first word: \")\n",
    "    word2 = input(\"Enter the second word: \")\n",
    "    word3 = input(\"Enter the third word: \")\n",
    "    return word1, word2, word3\n",
    "\n",
    "def display():\n",
    "    word1, word2, word3 = user_inputs()\n",
    "    union_result = union_of_words(word1, word2, word3)\n",
    "    common_result = common_letters(word1, word2, word3)\n",
    "    different_result = different_letters(word1, word2, word3)\n",
    "    print(f\"Letters in at least one word: {union_result}\")\n",
    "    print(f\"Letters in all three words: {common_result}\")\n",
    "    print(f\"Letters in either word but not in all: {different_result}\")\n",
    "\n",
    "display()\n",
    "    "
   ]
  },
  {
   "cell_type": "code",
   "execution_count": 11,
   "id": "706c9b56-cd3a-4f22-8f80-b66be9777957",
   "metadata": {},
   "outputs": [
    {
     "name": "stdout",
     "output_type": "stream",
     "text": [
      "Country-Capital Manager\n",
      "Type 'exit' to quit the program.\n",
      "\n"
     ]
    },
    {
     "name": "stdin",
     "output_type": "stream",
     "text": [
      "Enter the name of a country (or 'exit' to stop):  Nepal\n",
      "I don't know the capital of Nepal. Please enter it:  kathmandu\n"
     ]
    },
    {
     "name": "stdout",
     "output_type": "stream",
     "text": [
      "Thank you! I've recorded that the capital of Nepal is kathmandu.\n",
      "\n"
     ]
    },
    {
     "name": "stdin",
     "output_type": "stream",
     "text": [
      "Enter the name of a country (or 'exit' to stop):  Nepal\n"
     ]
    },
    {
     "name": "stdout",
     "output_type": "stream",
     "text": [
      "The capital of Nepal is Kathmandu.\n"
     ]
    },
    {
     "name": "stdin",
     "output_type": "stream",
     "text": [
      "Enter the name of a country (or 'exit' to stop):  exit\n"
     ]
    },
    {
     "name": "stdout",
     "output_type": "stream",
     "text": [
      "\n",
      "Exiting the program. Thank you!\n"
     ]
    }
   ],
   "source": [
    "\"\"\"Write a program that manages a list of countries and their capital cities. It should\n",
    "prompt the user to enter the name of a country. If the program already \"knows\"\n",
    "the name of the capital city, it should display it. Otherwise it should ask the user to\n",
    "enter it. This should carry on until the user terminates the program (how this\n",
    "happens is up to you).\n",
    "Note: A good solution to this task will be able to cope with the country being entered\n",
    "variously as, for example, \"Wales\", \"wales\", \"WALES\" and so on.\"\"\"\n",
    "def countries_capital():\n",
    "    country_capital = {}\n",
    "\n",
    "    print(\"Country-Capital Manager\")\n",
    "    print(\"Type 'exit' to quit the program.\\n\")\n",
    "\n",
    "    while True:\n",
    "        country = input(\"Enter the name of a country (or 'exit' to stop): \").strip()\n",
    "        if country.lower() == \"exit\":\n",
    "            print(\"\\nExiting the program. Thank you!\")\n",
    "            break\n",
    "        normalized_country = country.lower()\n",
    "        if normalized_country in country_capital:\n",
    "            print(f\"The capital of {country} is {country_capital[normalized_country].title()}.\")\n",
    "        else:\n",
    "            capital = input(f\"I don't know the capital of {country}. Please enter it: \").strip()\n",
    "            country_capital[normalized_country] = capital.lower()\n",
    "            print(f\"Thank you! I've recorded that the capital of {country} is {capital}.\\n\")\n",
    "\n",
    "if __name__ == \"__main__\":\n",
    "    countries_capital()\n"
   ]
  },
  {
   "cell_type": "code",
   "execution_count": 17,
   "id": "a6ad48c7-515d-43f6-bd5d-56da052e9024",
   "metadata": {},
   "outputs": [
    {
     "name": "stdout",
     "output_type": "stream",
     "text": [
      "Frequency Analysis of Encrypted Message\n"
     ]
    },
    {
     "name": "stdin",
     "output_type": "stream",
     "text": [
      "Enter the encrypted message:  ssabbuudana\n"
     ]
    },
    {
     "name": "stdout",
     "output_type": "stream",
     "text": [
      "\n",
      "The six most common letters and their counts are:\n",
      "'a': 3\n",
      "'s': 2\n",
      "'b': 2\n",
      "'u': 2\n",
      "'d': 1\n",
      "'n': 1\n"
     ]
    }
   ],
   "source": [
    "\"\"\"One approach to analysing some encrypted data where a substitution is suspected\n",
    "is frequency analysis. A count of the different symbols in the message can be used\n",
    "to identify the language used, and sometimes some of the letters. In English, the\n",
    "most common letter is \"e\", and so the symbol representing \"e\" should appear most\n",
    "in the encrypted text.\n",
    "Write a program that processes a string representing a message and reports the six\n",
    "most common letters, along with the number of times they appear. Case should\n",
    "not matter, so \"E\" and \"e\" are considered the same.\"\"\"\n",
    "def frequency_analysis(message):\n",
    "    filtered_message = ''.join(char.lower() for char in message if char.isalpha())\n",
    "    frequency_dict = {}\n",
    "    for char in filtered_message:\n",
    "        if char in frequency_dict:\n",
    "            frequency_dict[char] += 1\n",
    "        else:\n",
    "            frequency_dict[char] = 1\n",
    "    sorted_letters = sorted(frequency_dict.items(), key=lambda x: x[1], reverse=True)\n",
    "    top_six = sorted_letters[:6]\n",
    "    return top_six\n",
    "\n",
    "def user_inputs():\n",
    "    print(\"Frequency Analysis of Encrypted Message\")\n",
    "    message = input(\"Enter the encrypted message: \")\n",
    "    return message\n",
    "def display():\n",
    "    message=user_inputs()\n",
    "    top_letters = frequency_analysis(message)\n",
    "    print(\"\\nThe six most common letters and their counts are:\")\n",
    "    for letter, count in top_letters:\n",
    "        print(f\"'{letter}': {count}\")\n",
    "\n",
    "if __name__ == \"__main__\":\n",
    "    display()\n"
   ]
  },
  {
   "cell_type": "code",
   "execution_count": null,
   "id": "cc6caa5f-37bd-4b62-985b-70956be48b3c",
   "metadata": {},
   "outputs": [],
   "source": []
  }
 ],
 "metadata": {
  "kernelspec": {
   "display_name": "Python 3 (ipykernel)",
   "language": "python",
   "name": "python3"
  },
  "language_info": {
   "codemirror_mode": {
    "name": "ipython",
    "version": 3
   },
   "file_extension": ".py",
   "mimetype": "text/x-python",
   "name": "python",
   "nbconvert_exporter": "python",
   "pygments_lexer": "ipython3",
   "version": "3.11.3"
  }
 },
 "nbformat": 4,
 "nbformat_minor": 5
}
