{
 "cells": [
  {
   "cell_type": "code",
   "execution_count": 1,
   "id": "2d042b54-9af5-4d6f-81cf-eb884300eb30",
   "metadata": {},
   "outputs": [
    {
     "name": "stdin",
     "output_type": "stream",
     "text": [
      "Hello,what is your name? Susmita Sangraula\n"
     ]
    },
    {
     "name": "stdout",
     "output_type": "stream",
     "text": [
      "Hello, Susmita Sangraula. Good to meet you!\n"
     ]
    }
   ],
   "source": [
    "\"\"\"1. Last week you wrote a program that printed out a cheery greeting including your name. Take a copy of it, and modify it so that the user enters their name at the keyboard, and then receives a greeting. For example: \n",
    "Hello, what is your name? Mr Apricot \n",
    "Hello, Mr Apricot. Good to meet you!\"\"\"\n",
    "name=input(\"Hello,what is your name?\")\n",
    "ans=name\n",
    "print(f\"Hello, {ans}. Good to meet you!\")\n"
   ]
  },
  {
   "cell_type": "code",
   "execution_count": 2,
   "id": "940747a3-9691-4af8-ba97-a311ee8884e4",
   "metadata": {},
   "outputs": [
    {
     "name": "stdin",
     "output_type": "stream",
     "text": [
      "Enter a temperature in Celsius: 32.5\n"
     ]
    },
    {
     "name": "stdout",
     "output_type": "stream",
     "text": [
      "32.5°C is equivalent to 90.5°F\n"
     ]
    }
   ],
   "source": [
    "\"\"\"2. Write a program that prompts a user to enter a temperature in Celsius, and then displays the corresponding temperature in Fahrenheit, like so: \n",
    "Enter a temperature in Celsius: 32.5 \n",
    "32.5C is equivalent to 90.5F. \"\"\"\n",
    "celsius=float(input(\"Enter a temperature in Celsius:\"))\n",
    "def temp(celsius):\n",
    "    fahrenheit= (9/5) * celsius + 32\n",
    "    return fahrenheit\n",
    "temp_fahrenheit=temp(celsius)\n",
    "print(f\"{celsius}°C is equivalent to {temp_fahrenheit}°F\") "
   ]
  },
  {
   "cell_type": "code",
   "execution_count": 9,
   "id": "9db7b1cd-4dc6-4b11-a2f9-79bec4b6230a",
   "metadata": {},
   "outputs": [
    {
     "name": "stdin",
     "output_type": "stream",
     "text": [
      "How many students? 110\n",
      "Required group size? 22\n"
     ]
    },
    {
     "name": "stdout",
     "output_type": "stream",
     "text": [
      "There will be 5 group with 0 student left over.\n"
     ]
    }
   ],
   "source": [
    "\"\"\"3. The Head of Computing at the University of Poppleton is tasked with dividing a group of students into lab groups. A lab group is usually 24 students, but this is sometimes varied to create groups of similar size. Write a program that prompts for the number of students and group size, and then displays how many groups will be needed and how many will be left over in a smaller group. \n",
    "How many students? 113 \n",
    "Required group size? 22 \n",
    "There will be 5 groups with 3 students left over. For bonus credit, see if you can fix the grammar in the output. So if there were 101 students in groups of 20 the output would be: \n",
    "There will be 5 groups with 1 student left over.\"\"\"\n",
    "students=int(input(\"How many students?\"))\n",
    "group=int(input(\"Required group size?\"))\n",
    "groups=students//group\n",
    "left_over_students=int(students%group)\n",
    "if groups<=1 or left_over_students<=1:\n",
    "    print(f\"There will be {groups} group with {left_over_students} student left over.\")\n",
    "else:\n",
    "    print(f\"There will be {groups} groups with {left_over_students} students left over.\")"
   ]
  },
  {
   "cell_type": "code",
   "execution_count": 14,
   "id": "dc635bfa-68da-4323-ba37-8db2c8c94c18",
   "metadata": {},
   "outputs": [
    {
     "name": "stdin",
     "output_type": "stream",
     "text": [
      "Enter the number of sweets: 100\n",
      "Enter the number of pupils: 100\n"
     ]
    },
    {
     "name": "stdout",
     "output_type": "stream",
     "text": [
      "You should give 1 sweet and you will have 0 sweet left over.\n"
     ]
    }
   ],
   "source": [
    "\"\"\"4. A kindly teacher wishes to distribute a tub of sweets between her pupils. She will first count the sweets and then divide them according to how many pupils attend that day. Write a program that will tell the teacher how many sweets to give to each pupil, and how many she will have left over. \"\"\"\n",
    "sweets=int(input(\"Enter the number of sweets:\"))\n",
    "pupils=int(input(\"Enter the number of pupils:\"))\n",
    "sweets_to_give=int(sweets/pupils)\n",
    "left_over=sweets%pupils\n",
    "if sweets_to_give<=1 or left_over<=1:\n",
    "    print(f\"You should give {sweets_to_give} sweet and you will have {left_over} sweet left over.\")\n",
    "else:\n",
    "    print(f\"You should give {sweets_to_give} sweets and you will have {left_over} sweets left over.\")\n",
    "\n"
   ]
  }
 ],
 "metadata": {
  "kernelspec": {
   "display_name": "Python 3 (ipykernel)",
   "language": "python",
   "name": "python3"
  },
  "language_info": {
   "codemirror_mode": {
    "name": "ipython",
    "version": 3
   },
   "file_extension": ".py",
   "mimetype": "text/x-python",
   "name": "python",
   "nbconvert_exporter": "python",
   "pygments_lexer": "ipython3",
   "version": "3.11.3"
  }
 },
 "nbformat": 4,
 "nbformat_minor": 5
}
