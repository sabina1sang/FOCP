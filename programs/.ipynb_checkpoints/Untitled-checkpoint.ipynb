{
 "cells": [
  {
   "cell_type": "code",
   "execution_count": 5,
   "id": "5f548439-7df8-464e-ad3c-32b4446c9d25",
   "metadata": {},
   "outputs": [
    {
     "name": "stdin",
     "output_type": "stream",
     "text": [
      "Enter an integer number: 1\n"
     ]
    },
    {
     "name": "stdout",
     "output_type": "stream",
     "text": [
      "True\n"
     ]
    }
   ],
   "source": [
    "\"\"\"Functions are often used to validate input. Write a function that accepts a single\n",
    "integer as a parameter and returns True if the integer is in the range 0 to 100\n",
    "(inclusive), or False otherwise. Write a short program to test the function.\"\"\"\n",
    "a=int(input(\"Enter an integer number:\"))\n",
    "def func(a):\n",
    "    if a in range(101):\n",
    "        print(\"True\")\n",
    "    else:\n",
    "        print(\"False\")\n",
    "func(a)\n",
    "    "
   ]
  },
  {
   "cell_type": "code",
   "execution_count": 8,
   "id": "c6e50d3c-35a9-4263-89be-75dea1a15bc0",
   "metadata": {},
   "outputs": [
    {
     "name": "stdin",
     "output_type": "stream",
     "text": [
      "Enter your name: SABIna\n"
     ]
    },
    {
     "name": "stdout",
     "output_type": "stream",
     "text": [
      "Number of Uppercase letters found in your input is 4.\n",
      "Number of Lowercase letters found in your input is 2.\n"
     ]
    }
   ],
   "source": [
    "\"\"\"Write a function that has a single string as its parameter, and returns the number of\n",
    "uppercase letters, and the number of lowercase letters in the string. Test the\n",
    "function with a short program.\"\"\"\n",
    "name=input(\"Enter your name:\")\n",
    "def count_case(name):\n",
    "    uppercase_count=0\n",
    "    lowercase_count=0\n",
    "    for char in name:\n",
    "        if char.isupper():\n",
    "            uppercase_count+=1\n",
    "        elif char.islower():\n",
    "            lowercase_count+=1\n",
    "    return uppercase_count,lowercase_count\n",
    "uppercase_count, lowercase_count = count_case(name)\n",
    "print(f\"Number of Uppercase letters found in your input is {uppercase_count}.\") \n",
    "print(f\"Number of Lowercase letters found in your input is {lowercase_count}.\") \n",
    "\n"
   ]
  },
  {
   "cell_type": "code",
   "execution_count": 10,
   "id": "75f37077-ce95-418a-9a1b-05533e3ce052",
   "metadata": {},
   "outputs": [
    {
     "name": "stdin",
     "output_type": "stream",
     "text": [
      "Enter your name: saBINa\n"
     ]
    },
    {
     "name": "stdout",
     "output_type": "stream",
     "text": [
      "Hello, Sabina!\n"
     ]
    }
   ],
   "source": [
    "\"\"\"Modify your \"greetings\" program so that the first letter of the name entered is\n",
    "always in uppercase with the rest in lowercase. This should happen even if the user\n",
    "entered their name differently. So if the user entered arthur, ARTHUR, or even\n",
    "arTHur the name should be displayed as Arthur.\"\"\"\n",
    "name=input(\"Enter your name:\")\n",
    "def greetings(name):\n",
    "    name=name.capitalize()\n",
    "    print(f\"Hello, {name}!\")\n",
    "greetings(name)"
   ]
  },
  {
   "cell_type": "code",
   "execution_count": 14,
   "id": "b6704de4-c2cd-4995-afd9-2ed5d3dd1316",
   "metadata": {},
   "outputs": [
    {
     "name": "stdin",
     "output_type": "stream",
     "text": [
      "Enter your name:  sa\n"
     ]
    },
    {
     "name": "stdout",
     "output_type": "stream",
     "text": [
      "Modified name: s\n"
     ]
    }
   ],
   "source": [
    "\"\"\"When processing data it is often useful to remove the last character from some\n",
    "input (it is often a newline). Write and test a function that takes a string parameter\n",
    "and returns it with the last character removed. (If the string contains one or fewer\n",
    "characters, return it unchanged.)\"\"\"\n",
    "def char_remove(name):\n",
    "    if len(name) <= 1:\n",
    "        return name  # Return the string unchanged if it's 1 or fewer characters\n",
    "    else:\n",
    "        return name[:-1]  # Return the string with the last character removed\n",
    "\n",
    "# Test the function with input\n",
    "name = input(\"Enter your name: \")\n",
    "modified_name = char_remove(name)\n",
    "\n",
    "# Print the result\n",
    "if len(name) <= 1:\n",
    "    print(f\"Your input '{name}' remained unchanged due to its shortness.\")\n",
    "else:\n",
    "    print(f\"Modified name: {modified_name}\")"
   ]
  },
  {
   "cell_type": "code",
   "execution_count": 22,
   "id": "5f1c2c6f-1ac8-44d3-9b39-8147cfc528e2",
   "metadata": {},
   "outputs": [
    {
     "name": "stdin",
     "output_type": "stream",
     "text": [
      "Enter the temperature measured in degrees centigrade: 5\n"
     ]
    },
    {
     "name": "stdout",
     "output_type": "stream",
     "text": [
      "The 5.0°C is equivalent to 41.0°F.\n"
     ]
    },
    {
     "name": "stdin",
     "output_type": "stream",
     "text": [
      "Enter the temperature measured in fahrenheit degree: 2\n"
     ]
    },
    {
     "name": "stdout",
     "output_type": "stream",
     "text": [
      "The 2.0°F is equivalent to -16.67°C.\n"
     ]
    }
   ],
   "source": [
    "\"\"\"Write and test a function that converts a temperature measured in degrees\n",
    "centigrade into the equivalent in fahrenheit, and another that does the reverse\n",
    "conversion. Test both functions. (Google will find you the formulae).\"\"\"\n",
    "celsius=float(input(\"Enter the temperature measured in degrees centigrade:\"))\n",
    "def celsius_to_fahrenheit(celsius):\n",
    "    fahrenheit=(celsius*9/5) + 32\n",
    "    print(f\"The {celsius}°C is equivalent to {fahrenheit:.2f}°F.\")\n",
    "celsius_to_fahrenheit(celsius)\n",
    "\n",
    "fahrenheit=float(input(\"Enter the temperature measured in fahrenheit degree:\"))\n",
    "def fahrenheit_to_celsius(fahrenheit):\n",
    "    celsius=(fahrenheit - 32) * 5 / 9\n",
    "    print(f\"The {fahrenheit}°F is equivalent to {celsius:.2f}°C.\")\n",
    "fahrenheit_to_celsius(fahrenheit)"
   ]
  },
  {
   "cell_type": "code",
   "execution_count": 23,
   "id": "acb2d29d-b677-463e-b191-c80529ad2b97",
   "metadata": {},
   "outputs": [
    {
     "name": "stdin",
     "output_type": "stream",
     "text": [
      "Enter the temperature in Celsius (eg:22C):  55c\n"
     ]
    },
    {
     "name": "stdout",
     "output_type": "stream",
     "text": [
      "The 55.0°C is equivalent to 131.00F\n"
     ]
    }
   ],
   "source": [
    "\"\"\"Write a program that takes a centigrade temperature and displays the equivalent in\n",
    "fahrenheit. The input should be a number followed by a letter C. The output should\n",
    "be in the same format.\"\"\"\n",
    "def celsius_to_fahrenheit(celsius):\n",
    "    return (celsius * 9/5) + 32\n",
    "temp_input = input(\"Enter the temperature in Celsius (eg:22C): \")\n",
    "celsius_value = float(temp_input[:-1])\n",
    "fahrenheit_value = celsius_to_fahrenheit(celsius_value)\n",
    "print(f\"The {celsius_value}°C is equivalent to {fahrenheit_value:.2f}F\")\n"
   ]
  },
  {
   "cell_type": "code",
   "execution_count": 24,
   "id": "0f3ce094-e13a-48bb-91c7-1cd45a5d1b1d",
   "metadata": {},
   "outputs": [
    {
     "name": "stdin",
     "output_type": "stream",
     "text": [
      "Enter the temperature in Celsius (eg:22C):  22C\n",
      "Enter the temperature in Celsius (eg:22C):  11C\n",
      "Enter the temperature in Celsius (eg:22C):  12C\n",
      "Enter the temperature in Celsius (eg:22C):  39C\n",
      "Enter the temperature in Celsius (eg:22C):  40C\n",
      "Enter the temperature in Celsius (eg:22C):  20C\n"
     ]
    },
    {
     "name": "stdout",
     "output_type": "stream",
     "text": [
      "Maximum Temperature: 104.00F\n",
      "Minimum Temperature: 51.80F\n",
      "Mean Temperature: 75.20F\n"
     ]
    }
   ],
   "source": [
    "\"\"\"Write a program that reads 6 temperatures (in the same format as before), and\n",
    "displays the maximum, minimum, and mean of the values.\n",
    "Hint: You should know there are built-in functions for max and min. If you hunt, you\n",
    "might also find one for the mean.\"\"\"\n",
    "import statistics\n",
    "\n",
    "def celsius_to_fahrenheit(celsius):\n",
    "    return (celsius * 9/5) + 32\n",
    "\n",
    "fahrenheit_temperatures = []\n",
    "\n",
    "for i in range(6):\n",
    "    temp_input=input(\"Enter the temperature in Celsius (eg:22C): \")\n",
    "    celsius_value = float(temp_input[:-1])\n",
    "    fahrenheit_temperatures.append(celsius_to_fahrenheit(celsius_value))\n",
    "\n",
    "max_temp = max(fahrenheit_temperatures)\n",
    "min_temp = min(fahrenheit_temperatures)\n",
    "mean_temp = statistics.mean(fahrenheit_temperatures)\n",
    "\n",
    "print(f\"Maximum Temperature: {max_temp:.2f}F\")\n",
    "print(f\"Minimum Temperature: {min_temp:.2f}F\")\n",
    "print(f\"Mean Temperature: {mean_temp:.2f}F\")"
   ]
  },
  {
   "cell_type": "code",
   "execution_count": null,
   "id": "8852a6a4-cd6b-4ba4-ba65-d87a9278e3ca",
   "metadata": {},
   "outputs": [],
   "source": [
    "\"\"\"Modify the previous program so that it can process any number of values. The input\n",
    "terminates when the user just pressed \"Enter\" at the prompt rather than entering a\n",
    "value.\"\"\"\n"
   ]
  }
 ],
 "metadata": {
  "kernelspec": {
   "display_name": "Python 3 (ipykernel)",
   "language": "python",
   "name": "python3"
  },
  "language_info": {
   "codemirror_mode": {
    "name": "ipython",
    "version": 3
   },
   "file_extension": ".py",
   "mimetype": "text/x-python",
   "name": "python",
   "nbconvert_exporter": "python",
   "pygments_lexer": "ipython3",
   "version": "3.11.3"
  }
 },
 "nbformat": 4,
 "nbformat_minor": 5
}
